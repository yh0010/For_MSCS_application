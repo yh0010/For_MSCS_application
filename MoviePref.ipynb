{
  "nbformat": 4,
  "nbformat_minor": 0,
  "metadata": {
    "colab": {
      "name": "MoviePref.ipynb",
      "provenance": [],
      "authorship_tag": "ABX9TyMoSvbYm3ONCwhhiYSwo9f9",
      "include_colab_link": true
    },
    "kernelspec": {
      "name": "python3",
      "display_name": "Python 3"
    },
    "language_info": {
      "name": "python"
    }
  },
  "cells": [
    {
      "cell_type": "markdown",
      "metadata": {
        "id": "view-in-github",
        "colab_type": "text"
      },
      "source": [
        "<a href=\"https://colab.research.google.com/github/yh0010/Graduate_Program_Records/blob/main/MoviePref.ipynb\" target=\"_parent\"><img src=\"https://colab.research.google.com/assets/colab-badge.svg\" alt=\"Open In Colab\"/></a>"
      ]
    },
    {
      "cell_type": "code",
      "metadata": {
        "colab": {
          "resources": {
            "http://localhost:8080/nbextensions/google.colab/files.js": {
              "data": "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",
              "ok": true,
              "headers": [
                [
                  "content-type",
                  "application/javascript"
                ]
              ],
              "status": 200,
              "status_text": ""
            }
          },
          "base_uri": "https://localhost:8080/",
          "height": 72
        },
        "id": "Gk4s_1N-89IB",
        "outputId": "ce0bb98c-2a3c-4483-8c03-f628ca23a59e"
      },
      "source": [
        "# Load data into colab\n",
        "\n",
        "from google.colab import files\n",
        "uploaded = files.upload()"
      ],
      "execution_count": 33,
      "outputs": [
        {
          "output_type": "display_data",
          "data": {
            "text/html": [
              "\n",
              "     <input type=\"file\" id=\"files-890717c5-3726-4b2e-b0eb-46e04f7ee49b\" name=\"files[]\" multiple disabled\n",
              "        style=\"border:none\" />\n",
              "     <output id=\"result-890717c5-3726-4b2e-b0eb-46e04f7ee49b\">\n",
              "      Upload widget is only available when the cell has been executed in the\n",
              "      current browser session. Please rerun this cell to enable.\n",
              "      </output>\n",
              "      <script src=\"/nbextensions/google.colab/files.js\"></script> "
            ],
            "text/plain": [
              "<IPython.core.display.HTML object>"
            ]
          },
          "metadata": {
            "tags": []
          }
        },
        {
          "output_type": "stream",
          "text": [
            "Saving MoviePrefm.csv to MoviePrefm (1).csv\n"
          ],
          "name": "stdout"
        }
      ]
    },
    {
      "cell_type": "code",
      "metadata": {
        "id": "01oih5R09UDm"
      },
      "source": [
        "# Import pandas to create dataframe\n",
        "\n",
        "import pandas as pd"
      ],
      "execution_count": 34,
      "outputs": []
    },
    {
      "cell_type": "markdown",
      "metadata": {
        "id": "ja54EhV0bgon"
      },
      "source": [
        "# **Part 1 Data Preparation**"
      ]
    },
    {
      "cell_type": "code",
      "metadata": {
        "colab": {
          "base_uri": "https://localhost:8080/",
          "height": 359
        },
        "id": "TfC-56Sb9bm0",
        "outputId": "5aea8fc2-ade8-4759-fff4-e2c4149c4ac9"
      },
      "source": [
        "# Read data from .csv file into dataframe\n",
        "df = pd.read_csv('MoviePrefm.csv')\n",
        "\n",
        "df #see the original table formatting\n"
      ],
      "execution_count": 124,
      "outputs": [
        {
          "output_type": "execute_result",
          "data": {
            "text/html": [
              "<div>\n",
              "<style scoped>\n",
              "    .dataframe tbody tr th:only-of-type {\n",
              "        vertical-align: middle;\n",
              "    }\n",
              "\n",
              "    .dataframe tbody tr th {\n",
              "        vertical-align: top;\n",
              "    }\n",
              "\n",
              "    .dataframe thead th {\n",
              "        text-align: right;\n",
              "    }\n",
              "</style>\n",
              "<table border=\"1\" class=\"dataframe\">\n",
              "  <thead>\n",
              "    <tr style=\"text-align: right;\">\n",
              "      <th></th>\n",
              "      <th>Unnamed: 0</th>\n",
              "      <th>The Piano</th>\n",
              "      <th>Pulp Fiction</th>\n",
              "      <th>Clueless</th>\n",
              "      <th>Cliffhanger</th>\n",
              "      <th>Fargo</th>\n",
              "    </tr>\n",
              "  </thead>\n",
              "  <tbody>\n",
              "    <tr>\n",
              "      <th>0</th>\n",
              "      <td>Ken+</td>\n",
              "      <td>1</td>\n",
              "      <td>1</td>\n",
              "      <td>0</td>\n",
              "      <td>1</td>\n",
              "      <td>?</td>\n",
              "    </tr>\n",
              "    <tr>\n",
              "      <th>1</th>\n",
              "      <td>Ken-</td>\n",
              "      <td>0</td>\n",
              "      <td>0</td>\n",
              "      <td>1</td>\n",
              "      <td>0</td>\n",
              "      <td>?</td>\n",
              "    </tr>\n",
              "    <tr>\n",
              "      <th>2</th>\n",
              "      <td>Amy+</td>\n",
              "      <td>0</td>\n",
              "      <td>0</td>\n",
              "      <td>1</td>\n",
              "      <td>0</td>\n",
              "      <td>0</td>\n",
              "    </tr>\n",
              "    <tr>\n",
              "      <th>3</th>\n",
              "      <td>Amy-</td>\n",
              "      <td>1</td>\n",
              "      <td>1</td>\n",
              "      <td>0</td>\n",
              "      <td>1</td>\n",
              "      <td>1</td>\n",
              "    </tr>\n",
              "    <tr>\n",
              "      <th>4</th>\n",
              "      <td>Jef+</td>\n",
              "      <td>0</td>\n",
              "      <td>1</td>\n",
              "      <td>0</td>\n",
              "      <td>0</td>\n",
              "      <td>1</td>\n",
              "    </tr>\n",
              "    <tr>\n",
              "      <th>5</th>\n",
              "      <td>Jef-</td>\n",
              "      <td>1</td>\n",
              "      <td>0</td>\n",
              "      <td>1</td>\n",
              "      <td>1</td>\n",
              "      <td>0</td>\n",
              "    </tr>\n",
              "    <tr>\n",
              "      <th>6</th>\n",
              "      <td>Mike+</td>\n",
              "      <td>1</td>\n",
              "      <td>1</td>\n",
              "      <td>0</td>\n",
              "      <td>1</td>\n",
              "      <td>1</td>\n",
              "    </tr>\n",
              "    <tr>\n",
              "      <th>7</th>\n",
              "      <td>Mike-</td>\n",
              "      <td>0</td>\n",
              "      <td>0</td>\n",
              "      <td>1</td>\n",
              "      <td>0</td>\n",
              "      <td>0</td>\n",
              "    </tr>\n",
              "    <tr>\n",
              "      <th>8</th>\n",
              "      <td>Chris+</td>\n",
              "      <td>0</td>\n",
              "      <td>0</td>\n",
              "      <td>1</td>\n",
              "      <td>0</td>\n",
              "      <td>0</td>\n",
              "    </tr>\n",
              "    <tr>\n",
              "      <th>9</th>\n",
              "      <td>Chris-</td>\n",
              "      <td>0</td>\n",
              "      <td>1</td>\n",
              "      <td>0</td>\n",
              "      <td>1</td>\n",
              "      <td>1</td>\n",
              "    </tr>\n",
              "  </tbody>\n",
              "</table>\n",
              "</div>"
            ],
            "text/plain": [
              "  Unnamed: 0  The Piano  Pulp Fiction  Clueless  Cliffhanger Fargo\n",
              "0       Ken+          1             1         0            1     ?\n",
              "1       Ken-          0             0         1            0     ?\n",
              "2       Amy+          0             0         1            0     0\n",
              "3       Amy-          1             1         0            1     1\n",
              "4       Jef+          0             1         0            0     1\n",
              "5       Jef-          1             0         1            1     0\n",
              "6      Mike+          1             1         0            1     1\n",
              "7      Mike-          0             0         1            0     0\n",
              "8     Chris+          0             0         1            0     0\n",
              "9     Chris-          0             1         0            1     1"
            ]
          },
          "metadata": {
            "tags": []
          },
          "execution_count": 124
        }
      ]
    },
    {
      "cell_type": "code",
      "metadata": {
        "colab": {
          "base_uri": "https://localhost:8080/",
          "height": 221
        },
        "id": "O4bkolH9kOne",
        "outputId": "faa3e31e-50db-45d8-eafe-aa4a4907d228"
      },
      "source": [
        "#drop the row for prediction\n",
        "df_copy0 = df.copy()\n",
        "df_copy0 = df_copy0.transpose() #put user name as columns\n",
        "\n",
        "df_copy0.columns = df_copy0.iloc[0] #use names as columns\n",
        "\n",
        "df_copy0 = df_copy0.transpose()\n",
        "\n",
        "df_copy0 = df_copy0.drop(columns='Unnamed: 0')\n",
        "\n",
        "df_copy0 = df_copy0.transpose()\n",
        "df_copy0 = df_copy0.drop(columns=['Ken+', 'Ken-']) #delete predicting subject\n",
        "\n",
        "print(df_copy0.columns.values) #double check the columns are reflected\n",
        "df_copy0 #print out the entire transposed table"
      ],
      "execution_count": 36,
      "outputs": [
        {
          "output_type": "stream",
          "text": [
            "['Amy+' 'Amy-' 'Jef+' 'Jef-' 'Mike+' 'Mike-' 'Chris+' 'Chris-']\n"
          ],
          "name": "stdout"
        },
        {
          "output_type": "execute_result",
          "data": {
            "text/html": [
              "<div>\n",
              "<style scoped>\n",
              "    .dataframe tbody tr th:only-of-type {\n",
              "        vertical-align: middle;\n",
              "    }\n",
              "\n",
              "    .dataframe tbody tr th {\n",
              "        vertical-align: top;\n",
              "    }\n",
              "\n",
              "    .dataframe thead th {\n",
              "        text-align: right;\n",
              "    }\n",
              "</style>\n",
              "<table border=\"1\" class=\"dataframe\">\n",
              "  <thead>\n",
              "    <tr style=\"text-align: right;\">\n",
              "      <th>Unnamed: 0</th>\n",
              "      <th>Amy+</th>\n",
              "      <th>Amy-</th>\n",
              "      <th>Jef+</th>\n",
              "      <th>Jef-</th>\n",
              "      <th>Mike+</th>\n",
              "      <th>Mike-</th>\n",
              "      <th>Chris+</th>\n",
              "      <th>Chris-</th>\n",
              "    </tr>\n",
              "  </thead>\n",
              "  <tbody>\n",
              "    <tr>\n",
              "      <th>The Piano</th>\n",
              "      <td>0</td>\n",
              "      <td>1</td>\n",
              "      <td>0</td>\n",
              "      <td>1</td>\n",
              "      <td>1</td>\n",
              "      <td>0</td>\n",
              "      <td>0</td>\n",
              "      <td>0</td>\n",
              "    </tr>\n",
              "    <tr>\n",
              "      <th>Pulp Fiction</th>\n",
              "      <td>0</td>\n",
              "      <td>1</td>\n",
              "      <td>1</td>\n",
              "      <td>0</td>\n",
              "      <td>1</td>\n",
              "      <td>0</td>\n",
              "      <td>0</td>\n",
              "      <td>1</td>\n",
              "    </tr>\n",
              "    <tr>\n",
              "      <th>Clueless</th>\n",
              "      <td>1</td>\n",
              "      <td>0</td>\n",
              "      <td>0</td>\n",
              "      <td>1</td>\n",
              "      <td>0</td>\n",
              "      <td>1</td>\n",
              "      <td>1</td>\n",
              "      <td>0</td>\n",
              "    </tr>\n",
              "    <tr>\n",
              "      <th>Cliffhanger</th>\n",
              "      <td>0</td>\n",
              "      <td>1</td>\n",
              "      <td>0</td>\n",
              "      <td>1</td>\n",
              "      <td>1</td>\n",
              "      <td>0</td>\n",
              "      <td>0</td>\n",
              "      <td>1</td>\n",
              "    </tr>\n",
              "    <tr>\n",
              "      <th>Fargo</th>\n",
              "      <td>0</td>\n",
              "      <td>1</td>\n",
              "      <td>1</td>\n",
              "      <td>0</td>\n",
              "      <td>1</td>\n",
              "      <td>0</td>\n",
              "      <td>0</td>\n",
              "      <td>1</td>\n",
              "    </tr>\n",
              "  </tbody>\n",
              "</table>\n",
              "</div>"
            ],
            "text/plain": [
              "Unnamed: 0   Amy+ Amy- Jef+ Jef- Mike+ Mike- Chris+ Chris-\n",
              "The Piano       0    1    0    1     1     0      0      0\n",
              "Pulp Fiction    0    1    1    0     1     0      0      1\n",
              "Clueless        1    0    0    1     0     1      1      0\n",
              "Cliffhanger     0    1    0    1     1     0      0      1\n",
              "Fargo           0    1    1    0     1     0      0      1"
            ]
          },
          "metadata": {
            "tags": []
          },
          "execution_count": 36
        }
      ]
    },
    {
      "cell_type": "code",
      "metadata": {
        "colab": {
          "base_uri": "https://localhost:8080/",
          "height": 173
        },
        "id": "ElAgd_gmV9d4",
        "outputId": "4d97a3a4-f37b-4ad5-b3e4-c756cbd21c20"
      },
      "source": [
        "#prep for another set of testing, without fargo\n",
        "df0 = df.copy()\n",
        "df0 = df0.drop(columns=\"Fargo\")\n",
        "Ndummies2 = ['Amy-', 'Jef-', 'Mike-', 'Chris-', 'Ken-']\n",
        "df0 = df0.transpose()\n",
        "df1 = df0.copy()\n",
        "df1.columns = df1.iloc[0]\n",
        "df1 = df1.drop(columns=Ndummies2)\n",
        "df2 = df1.copy()\n",
        "df2 = df2.transpose()\n",
        "df2 = df2.drop(columns=['Unnamed: 0'])\n",
        "df2 = df2.transpose()\n",
        "df2 #dataset with only positive mark, contains all 5 persons, without Fargo"
      ],
      "execution_count": 37,
      "outputs": [
        {
          "output_type": "execute_result",
          "data": {
            "text/html": [
              "<div>\n",
              "<style scoped>\n",
              "    .dataframe tbody tr th:only-of-type {\n",
              "        vertical-align: middle;\n",
              "    }\n",
              "\n",
              "    .dataframe tbody tr th {\n",
              "        vertical-align: top;\n",
              "    }\n",
              "\n",
              "    .dataframe thead th {\n",
              "        text-align: right;\n",
              "    }\n",
              "</style>\n",
              "<table border=\"1\" class=\"dataframe\">\n",
              "  <thead>\n",
              "    <tr style=\"text-align: right;\">\n",
              "      <th>Unnamed: 0</th>\n",
              "      <th>Ken+</th>\n",
              "      <th>Amy+</th>\n",
              "      <th>Jef+</th>\n",
              "      <th>Mike+</th>\n",
              "      <th>Chris+</th>\n",
              "    </tr>\n",
              "  </thead>\n",
              "  <tbody>\n",
              "    <tr>\n",
              "      <th>The Piano</th>\n",
              "      <td>1</td>\n",
              "      <td>0</td>\n",
              "      <td>0</td>\n",
              "      <td>1</td>\n",
              "      <td>0</td>\n",
              "    </tr>\n",
              "    <tr>\n",
              "      <th>Pulp Fiction</th>\n",
              "      <td>1</td>\n",
              "      <td>0</td>\n",
              "      <td>1</td>\n",
              "      <td>1</td>\n",
              "      <td>0</td>\n",
              "    </tr>\n",
              "    <tr>\n",
              "      <th>Clueless</th>\n",
              "      <td>0</td>\n",
              "      <td>1</td>\n",
              "      <td>0</td>\n",
              "      <td>0</td>\n",
              "      <td>1</td>\n",
              "    </tr>\n",
              "    <tr>\n",
              "      <th>Cliffhanger</th>\n",
              "      <td>1</td>\n",
              "      <td>0</td>\n",
              "      <td>0</td>\n",
              "      <td>1</td>\n",
              "      <td>0</td>\n",
              "    </tr>\n",
              "  </tbody>\n",
              "</table>\n",
              "</div>"
            ],
            "text/plain": [
              "Unnamed: 0   Ken+ Amy+ Jef+ Mike+ Chris+\n",
              "The Piano       1    0    0     1      0\n",
              "Pulp Fiction    1    0    1     1      0\n",
              "Clueless        0    1    0     0      1\n",
              "Cliffhanger     1    0    0     1      0"
            ]
          },
          "metadata": {
            "tags": []
          },
          "execution_count": 37
        }
      ]
    },
    {
      "cell_type": "code",
      "metadata": {
        "colab": {
          "base_uri": "https://localhost:8080/",
          "height": 204
        },
        "id": "bhXah5kdZYR3",
        "outputId": "180d116c-1c43-42d1-c7d0-b124824c5f87"
      },
      "source": [
        "df_copy1 = df_copy0.copy()\n",
        "df_copy2 = df_copy0.copy()\n",
        "\n",
        "Ndummies = ['Amy-', 'Jef-', 'Mike-', 'Chris-']\n",
        "\n",
        "df_copy1 = df_copy1.drop(columns=Ndummies)\n",
        "\n",
        "display(df_copy1) #dataset with only positive mark, contains all 5 movies, without Ken"
      ],
      "execution_count": 40,
      "outputs": [
        {
          "output_type": "display_data",
          "data": {
            "text/html": [
              "<div>\n",
              "<style scoped>\n",
              "    .dataframe tbody tr th:only-of-type {\n",
              "        vertical-align: middle;\n",
              "    }\n",
              "\n",
              "    .dataframe tbody tr th {\n",
              "        vertical-align: top;\n",
              "    }\n",
              "\n",
              "    .dataframe thead th {\n",
              "        text-align: right;\n",
              "    }\n",
              "</style>\n",
              "<table border=\"1\" class=\"dataframe\">\n",
              "  <thead>\n",
              "    <tr style=\"text-align: right;\">\n",
              "      <th>Unnamed: 0</th>\n",
              "      <th>Amy+</th>\n",
              "      <th>Jef+</th>\n",
              "      <th>Mike+</th>\n",
              "      <th>Chris+</th>\n",
              "    </tr>\n",
              "  </thead>\n",
              "  <tbody>\n",
              "    <tr>\n",
              "      <th>The Piano</th>\n",
              "      <td>0</td>\n",
              "      <td>0</td>\n",
              "      <td>1</td>\n",
              "      <td>0</td>\n",
              "    </tr>\n",
              "    <tr>\n",
              "      <th>Pulp Fiction</th>\n",
              "      <td>0</td>\n",
              "      <td>1</td>\n",
              "      <td>1</td>\n",
              "      <td>0</td>\n",
              "    </tr>\n",
              "    <tr>\n",
              "      <th>Clueless</th>\n",
              "      <td>1</td>\n",
              "      <td>0</td>\n",
              "      <td>0</td>\n",
              "      <td>1</td>\n",
              "    </tr>\n",
              "    <tr>\n",
              "      <th>Cliffhanger</th>\n",
              "      <td>0</td>\n",
              "      <td>0</td>\n",
              "      <td>1</td>\n",
              "      <td>0</td>\n",
              "    </tr>\n",
              "    <tr>\n",
              "      <th>Fargo</th>\n",
              "      <td>0</td>\n",
              "      <td>1</td>\n",
              "      <td>1</td>\n",
              "      <td>0</td>\n",
              "    </tr>\n",
              "  </tbody>\n",
              "</table>\n",
              "</div>"
            ],
            "text/plain": [
              "Unnamed: 0   Amy+ Jef+ Mike+ Chris+\n",
              "The Piano       0    0     1      0\n",
              "Pulp Fiction    0    1     1      0\n",
              "Clueless        1    0     0      1\n",
              "Cliffhanger     0    0     1      0\n",
              "Fargo           0    1     1      0"
            ]
          },
          "metadata": {
            "tags": []
          }
        }
      ]
    },
    {
      "cell_type": "markdown",
      "metadata": {
        "id": "nxiPdcWIb6Nc"
      },
      "source": [
        "# **Part 2 Modeling**"
      ]
    },
    {
      "cell_type": "markdown",
      "metadata": {
        "id": "bkZ0-WkV784p"
      },
      "source": [
        "https://people.revoledu.com/kardi/tutorial/Similarity/SimpleMatching.html\n",
        "\n",
        "Simple Matching Coefficient (for binary values)"
      ]
    },
    {
      "cell_type": "markdown",
      "metadata": {
        "id": "d9ifYBHzfl1N"
      },
      "source": [
        "![Screen Shot 2021-05-07 at 11.42.05 AM.png](data:image/png;base64,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)"
      ]
    },
    {
      "cell_type": "markdown",
      "metadata": {
        "id": "cGcdK3R38Luk"
      },
      "source": [
        "Below: Use brute-force method to match 2 person's recommendation distance, do this for the entire list. Total of 6 times matching happened.\n",
        "\n",
        "This means that each individual compares with the remaining 3 persons for distance. (n_neighbors=3)\n",
        "Since the training list only contains 4 persons total, it is best to match all of them with each other."
      ]
    },
    {
      "cell_type": "code",
      "metadata": {
        "id": "FlKNx_KpjZpq"
      },
      "source": [
        "#adding feature, to make the print more presentable\n",
        "class color:\n",
        "   PURPLE = '\\033[95m'\n",
        "   CYAN = '\\033[96m'\n",
        "   DARKCYAN = '\\033[36m'\n",
        "   BLUE = '\\033[94m'\n",
        "   GREEN = '\\033[92m'\n",
        "   YELLOW = '\\033[93m'\n",
        "   RED = '\\033[91m'\n",
        "   BOLD = '\\033[1m'\n",
        "   UNDERLINE = '\\033[4m'\n",
        "   END = '\\033[0m'"
      ],
      "execution_count": 111,
      "outputs": []
    },
    {
      "cell_type": "code",
      "metadata": {
        "colab": {
          "base_uri": "https://localhost:8080/"
        },
        "id": "BqVkY5I-hvtY",
        "outputId": "090e0c0a-6c9c-414c-d393-0addb184f828"
      },
      "source": [
        "names2 = [\"Ken+\",\"Amy+\", \"Jef+\", \"Mike+\", \"Chris+\"]\n",
        "KenDict = dict()\n",
        "\n",
        "def distance_coeff(p,q,r,s):\n",
        "  t = p+q+r+s #4 variables\n",
        "  coeff = (p+s)/t\n",
        "  distance = 1 - coeff\n",
        "  # print(\"distance:\",distance)\n",
        "  # print(\"coeff:\",coeff)\n",
        "  print(' ',\"coeff:\",coeff)\n",
        "  print(color.BOLD,color.BLUE , \"distance:\",distance , color.END)\n",
        "  return distance\n",
        "\n",
        "for i in names2:\n",
        "  position = len(names2)-1 - names2.index(i)\n",
        "  # print(\"position:\",position)\n",
        "  if position != 0:\n",
        "    for k in range(position):\n",
        "      if i == \"Ken+\":print(color.BOLD,i,\"with\",names2[k+1],color.END)\n",
        "      elif i == \"Amy+\":print(color.BOLD,i,\"with\",names2[k+2],color.END)\n",
        "      elif i == \"Jef+\": print(color.BOLD,i,\"with\",names2[k+3],color.END)\n",
        "      elif i == \"Mike+\": print(color.BOLD,i,\"with\",names2[k+4],color.END)\n",
        "      # print(\"k:\",k)\n",
        "      p = 0 # both are positive\n",
        "      q = 0 # A is positive while B is negative\n",
        "      r = 0 # A is negative while B is positive\n",
        "      s = 0 # both are negative\n",
        "      for j in range(4):\n",
        "        if df2[i].iloc[j] == df2[names2[names2.index(i)+k+1]].iloc[j]:\n",
        "          if df2[i].iloc[j] == 1:\n",
        "            p += 1\n",
        "          else:\n",
        "            s += 1\n",
        "        else:\n",
        "          if pd.to_numeric(df2[i]).iloc[j] == 1:\n",
        "            q += 1\n",
        "          else:\n",
        "            r += 1\n",
        "      print(' ','p:',p,'q:',q,'r:',r,'s:',s)\n",
        "      result2 = distance_coeff(p,q,r,s)\n",
        "      print('\\n')\n",
        "      if i == \"Ken+\":\n",
        "        KenDict[i + \" with \" + names2[k+1]] = result2\n",
        "\n",
        "KenDict"
      ],
      "execution_count": 112,
      "outputs": [
        {
          "output_type": "stream",
          "text": [
            "\u001b[1m Ken+ with Amy+ \u001b[0m\n",
            "  p: 0 q: 3 r: 1 s: 0\n",
            "  coeff: 0.0\n",
            "\u001b[1m \u001b[94m distance: 1.0 \u001b[0m\n",
            "\n",
            "\n",
            "\u001b[1m Ken+ with Jef+ \u001b[0m\n",
            "  p: 1 q: 2 r: 0 s: 1\n",
            "  coeff: 0.5\n",
            "\u001b[1m \u001b[94m distance: 0.5 \u001b[0m\n",
            "\n",
            "\n",
            "\u001b[1m Ken+ with Mike+ \u001b[0m\n",
            "  p: 3 q: 0 r: 0 s: 1\n",
            "  coeff: 1.0\n",
            "\u001b[1m \u001b[94m distance: 0.0 \u001b[0m\n",
            "\n",
            "\n",
            "\u001b[1m Ken+ with Chris+ \u001b[0m\n",
            "  p: 0 q: 3 r: 1 s: 0\n",
            "  coeff: 0.0\n",
            "\u001b[1m \u001b[94m distance: 1.0 \u001b[0m\n",
            "\n",
            "\n",
            "\u001b[1m Amy+ with Jef+ \u001b[0m\n",
            "  p: 0 q: 1 r: 1 s: 2\n",
            "  coeff: 0.5\n",
            "\u001b[1m \u001b[94m distance: 0.5 \u001b[0m\n",
            "\n",
            "\n",
            "\u001b[1m Amy+ with Mike+ \u001b[0m\n",
            "  p: 0 q: 1 r: 3 s: 0\n",
            "  coeff: 0.0\n",
            "\u001b[1m \u001b[94m distance: 1.0 \u001b[0m\n",
            "\n",
            "\n",
            "\u001b[1m Amy+ with Chris+ \u001b[0m\n",
            "  p: 1 q: 0 r: 0 s: 3\n",
            "  coeff: 1.0\n",
            "\u001b[1m \u001b[94m distance: 0.0 \u001b[0m\n",
            "\n",
            "\n",
            "\u001b[1m Jef+ with Mike+ \u001b[0m\n",
            "  p: 1 q: 0 r: 2 s: 1\n",
            "  coeff: 0.5\n",
            "\u001b[1m \u001b[94m distance: 0.5 \u001b[0m\n",
            "\n",
            "\n",
            "\u001b[1m Jef+ with Chris+ \u001b[0m\n",
            "  p: 0 q: 1 r: 1 s: 2\n",
            "  coeff: 0.5\n",
            "\u001b[1m \u001b[94m distance: 0.5 \u001b[0m\n",
            "\n",
            "\n",
            "\u001b[1m Mike+ with Chris+ \u001b[0m\n",
            "  p: 0 q: 3 r: 1 s: 0\n",
            "  coeff: 0.0\n",
            "\u001b[1m \u001b[94m distance: 1.0 \u001b[0m\n",
            "\n",
            "\n"
          ],
          "name": "stdout"
        },
        {
          "output_type": "execute_result",
          "data": {
            "text/plain": [
              "{'Ken+ with Amy+': 1.0,\n",
              " 'Ken+ with Chris+': 1.0,\n",
              " 'Ken+ with Jef+': 0.5,\n",
              " 'Ken+ with Mike+': 0.0}"
            ]
          },
          "metadata": {
            "tags": []
          },
          "execution_count": 112
        }
      ]
    },
    {
      "cell_type": "markdown",
      "metadata": {
        "id": "wZtXGPKu87df"
      },
      "source": [
        "Above: The distance that's closer to 1, the less similar are these 2 person's recommendations."
      ]
    },
    {
      "cell_type": "code",
      "metadata": {
        "colab": {
          "base_uri": "https://localhost:8080/"
        },
        "id": "DNfzqJH9dK8Y",
        "outputId": "c42e9768-88b1-419d-e521-ebfe34a0cb64"
      },
      "source": [
        "arr = []\n",
        "def searchSmall(arr, dictionary):\n",
        "  for key,val in dictionary.items():\n",
        "    arr.append(val)\n",
        "\n",
        "  arr.sort()\n",
        "  arr[0]\n",
        "\n",
        "  for key,val in dictionary.items():\n",
        "    if val == arr[0]:\n",
        "      return key,val\n",
        "    if val == arr[1]:\n",
        "      print(key, val)\n",
        "\n",
        "searchSmall(arr, KenDict) #this returns the persons who have the closest distance with target person, in this case, is Mike with Ken on 0.0, then next person is Jef"
      ],
      "execution_count": 123,
      "outputs": [
        {
          "output_type": "stream",
          "text": [
            "Ken+ with Jef+ 0.5\n"
          ],
          "name": "stdout"
        },
        {
          "output_type": "execute_result",
          "data": {
            "text/plain": [
              "('Ken+ with Mike+', 0.0)"
            ]
          },
          "metadata": {
            "tags": []
          },
          "execution_count": 123
        }
      ]
    },
    {
      "cell_type": "code",
      "metadata": {
        "colab": {
          "base_uri": "https://localhost:8080/"
        },
        "id": "PhDNQ06qdZ2h",
        "outputId": "f847d1af-4edc-4b8f-fa8f-b7f22578d418"
      },
      "source": [
        "names = [\"Amy+\", \"Jef+\", \"Mike+\", \"Chris+\"]\n",
        "allDict = dict()\n",
        "\n",
        "def distance_coeff(p,q,r,s):\n",
        "  t = p+q+r+s #4 variables\n",
        "  coeff = (p+s)/t\n",
        "  distance = 1 - coeff\n",
        "  print(' ',\"coeff:\",coeff)\n",
        "  print(color.BOLD,color.BLUE , \"distance:\",distance , color.END)\n",
        "  return distance\n",
        "\n",
        "for i in names:\n",
        "  position = len(names)-1 - names.index(i)\n",
        "  # print(\"position:\",position)\n",
        "  if position != 0:\n",
        "    for k in range(position):\n",
        "      if i == \"Amy+\":print(color.BOLD,i,\"with\",names2[k+2],color.END)\n",
        "      elif i == \"Jef+\":print(color.BOLD,i,\"with\",names2[k+3],color.END)\n",
        "      elif i == \"Mike+\": print(color.BOLD,i,\"with\",names2[k+4],color.END)\n",
        "      # print(\"k:\",k)\n",
        "      p = 0 # both are positive\n",
        "      q = 0 # A is positive while B is negative\n",
        "      r = 0 # A is negative while B is positive\n",
        "      s = 0 # both are negative\n",
        "      for j in range(5):\n",
        "        if df_copy1[i].iloc[j] == df_copy1[names[names.index(i)+k+1]].iloc[j]:\n",
        "          if df_copy1[i].iloc[j] == 1:\n",
        "            p += 1\n",
        "          else:\n",
        "            s += 1\n",
        "        else:\n",
        "          if pd.to_numeric(df_copy1[i]).iloc[j] == 1:\n",
        "            q += 1\n",
        "          else:\n",
        "            r += 1\n",
        "      print(' ','p:',p,'q:',q,'r:',r,'s:',s)\n",
        "      result = distance_coeff(p,q,r,s)\n",
        "      print('\\n')\n",
        "      if i == \"Amy+\":\n",
        "        allDict[i+\" with \"+names2[k+2]] = result\n",
        "      elif i == \"Jef+\":\n",
        "        allDict[i+\" with \"+names2[k+3]] = result\n",
        "      elif i == \"Mike+\":\n",
        "        allDict[i+\" with \"+names2[k+4]] = result\n",
        "allDict"
      ],
      "execution_count": 114,
      "outputs": [
        {
          "output_type": "stream",
          "text": [
            "\u001b[1m Amy+ with Jef+ \u001b[0m\n",
            "  p: 0 q: 1 r: 2 s: 2\n",
            "  coeff: 0.4\n",
            "\u001b[1m \u001b[94m distance: 0.6 \u001b[0m\n",
            "\n",
            "\n",
            "\u001b[1m Amy+ with Mike+ \u001b[0m\n",
            "  p: 0 q: 1 r: 4 s: 0\n",
            "  coeff: 0.0\n",
            "\u001b[1m \u001b[94m distance: 1.0 \u001b[0m\n",
            "\n",
            "\n",
            "\u001b[1m Amy+ with Chris+ \u001b[0m\n",
            "  p: 1 q: 0 r: 0 s: 4\n",
            "  coeff: 1.0\n",
            "\u001b[1m \u001b[94m distance: 0.0 \u001b[0m\n",
            "\n",
            "\n",
            "\u001b[1m Jef+ with Mike+ \u001b[0m\n",
            "  p: 1 q: 0 r: 2 s: 2\n",
            "  coeff: 0.6\n",
            "\u001b[1m \u001b[94m distance: 0.4 \u001b[0m\n",
            "\n",
            "\n",
            "\u001b[1m Jef+ with Chris+ \u001b[0m\n",
            "  p: 0 q: 2 r: 1 s: 2\n",
            "  coeff: 0.4\n",
            "\u001b[1m \u001b[94m distance: 0.6 \u001b[0m\n",
            "\n",
            "\n",
            "\u001b[1m Mike+ with Chris+ \u001b[0m\n",
            "  p: 0 q: 4 r: 1 s: 0\n",
            "  coeff: 0.0\n",
            "\u001b[1m \u001b[94m distance: 1.0 \u001b[0m\n",
            "\n",
            "\n"
          ],
          "name": "stdout"
        },
        {
          "output_type": "execute_result",
          "data": {
            "text/plain": [
              "{'Amy+ with Chris+': 0.0,\n",
              " 'Amy+ with Jef+': 0.6,\n",
              " 'Amy+ with Mike+': 1.0,\n",
              " 'Jef+ with Chris+': 0.6,\n",
              " 'Jef+ with Mike+': 0.4,\n",
              " 'Mike+ with Chris+': 1.0}"
            ]
          },
          "metadata": {
            "tags": []
          },
          "execution_count": 114
        }
      ]
    },
    {
      "cell_type": "code",
      "metadata": {
        "colab": {
          "base_uri": "https://localhost:8080/"
        },
        "id": "W-r8WNF0gDml",
        "outputId": "a37d9973-f3aa-4a79-f44c-026edd286281"
      },
      "source": [
        "targetDict = dict()\n",
        "for key,val in allDict.items():\n",
        "  if key.find(\"Mike\") >= 0:\n",
        "    targetDict[key] = val\n",
        "arr2 = []\n",
        "matchResult = searchSmall(arr2, targetDict)\n",
        "matchResult #this return any person that has the closest distance with target person, in this case is Jef that's closest to Mike based on 5 movies recommendation distance"
      ],
      "execution_count": 115,
      "outputs": [
        {
          "output_type": "execute_result",
          "data": {
            "text/plain": [
              "('Jef+ with Mike+', 0.4)"
            ]
          },
          "metadata": {
            "tags": []
          },
          "execution_count": 115
        }
      ]
    },
    {
      "cell_type": "code",
      "metadata": {
        "colab": {
          "base_uri": "https://localhost:8080/",
          "height": 204
        },
        "id": "KZrh8KLCsDNu",
        "outputId": "f53bcb86-4a3a-4612-8ded-15d4331dadfa"
      },
      "source": [
        "#use for below highlight chart\n",
        "df_chart = df.copy()\n",
        "df_chart = df_chart.transpose()\n",
        "df_chart.columns = df_chart.iloc[0]\n",
        "df_chart = df_chart.drop(columns=Ndummies2)\n",
        "df_chart = df_chart.transpose()\n",
        "df_chart = df_chart.drop(columns='Unnamed: 0')\n",
        "df_chart = df_chart.transpose()\n",
        "df_chart2 = df_chart.copy()\n",
        "df_chart"
      ],
      "execution_count": 116,
      "outputs": [
        {
          "output_type": "execute_result",
          "data": {
            "text/html": [
              "<div>\n",
              "<style scoped>\n",
              "    .dataframe tbody tr th:only-of-type {\n",
              "        vertical-align: middle;\n",
              "    }\n",
              "\n",
              "    .dataframe tbody tr th {\n",
              "        vertical-align: top;\n",
              "    }\n",
              "\n",
              "    .dataframe thead th {\n",
              "        text-align: right;\n",
              "    }\n",
              "</style>\n",
              "<table border=\"1\" class=\"dataframe\">\n",
              "  <thead>\n",
              "    <tr style=\"text-align: right;\">\n",
              "      <th>Unnamed: 0</th>\n",
              "      <th>Ken+</th>\n",
              "      <th>Amy+</th>\n",
              "      <th>Jef+</th>\n",
              "      <th>Mike+</th>\n",
              "      <th>Chris+</th>\n",
              "    </tr>\n",
              "  </thead>\n",
              "  <tbody>\n",
              "    <tr>\n",
              "      <th>The Piano</th>\n",
              "      <td>1</td>\n",
              "      <td>0</td>\n",
              "      <td>0</td>\n",
              "      <td>1</td>\n",
              "      <td>0</td>\n",
              "    </tr>\n",
              "    <tr>\n",
              "      <th>Pulp Fiction</th>\n",
              "      <td>1</td>\n",
              "      <td>0</td>\n",
              "      <td>1</td>\n",
              "      <td>1</td>\n",
              "      <td>0</td>\n",
              "    </tr>\n",
              "    <tr>\n",
              "      <th>Clueless</th>\n",
              "      <td>0</td>\n",
              "      <td>1</td>\n",
              "      <td>0</td>\n",
              "      <td>0</td>\n",
              "      <td>1</td>\n",
              "    </tr>\n",
              "    <tr>\n",
              "      <th>Cliffhanger</th>\n",
              "      <td>1</td>\n",
              "      <td>0</td>\n",
              "      <td>0</td>\n",
              "      <td>1</td>\n",
              "      <td>0</td>\n",
              "    </tr>\n",
              "    <tr>\n",
              "      <th>Fargo</th>\n",
              "      <td>?</td>\n",
              "      <td>0</td>\n",
              "      <td>1</td>\n",
              "      <td>1</td>\n",
              "      <td>0</td>\n",
              "    </tr>\n",
              "  </tbody>\n",
              "</table>\n",
              "</div>"
            ],
            "text/plain": [
              "Unnamed: 0   Ken+ Amy+ Jef+ Mike+ Chris+\n",
              "The Piano       1    0    0     1      0\n",
              "Pulp Fiction    1    0    1     1      0\n",
              "Clueless        0    1    0     0      1\n",
              "Cliffhanger     1    0    0     1      0\n",
              "Fargo           ?    0    1     1      0"
            ]
          },
          "metadata": {
            "tags": []
          },
          "execution_count": 116
        }
      ]
    },
    {
      "cell_type": "code",
      "metadata": {
        "colab": {
          "base_uri": "https://localhost:8080/",
          "height": 273
        },
        "id": "RzfyXz-5pd3J",
        "outputId": "c8070786-8990-4918-a69a-6fea71584c05"
      },
      "source": [
        "import numpy as np\n",
        "def highlight_greater(x):\n",
        "    y = 'yellow'\n",
        "    m1 = x['Mike+'] == x['Jef+']\n",
        "    m2 = x['Ken+'] == x['Jef+']\n",
        "    m3 = x['Jef+'] == x['Mike+']\n",
        "\n",
        "    df1 = pd.DataFrame('background-color: ', index=x.index, columns=x.columns)\n",
        "    #rewrite values by boolean masks\n",
        "    df1['Mike+'] = np.where(m1, 'background-color: {}'.format(y), df1['Jef+'])\n",
        "    df1['Ken+'] = np.where(m2, 'background-color: {}'.format(y), df1['Mike+'])\n",
        "    df1['Jef+'] = np.where(m3, 'background-color: {}'.format(y), df1['Mike+'])\n",
        "    return df1\n",
        "\n",
        "\n",
        "display(df_chart.style.apply(highlight_greater, axis=None))\n",
        "\n",
        "def highlight_greater(x):\n",
        "    y = 'orange'\n",
        "    m = x['Jef+'] <= x['Mike+']\n",
        "\n",
        "    df1 = pd.DataFrame('background-color: ', index=x.index, columns=x.columns)\n",
        "    #rewrite values by boolean masks\n",
        "    df1['Mike+'] = np.where(m, 'background-color: {}'.format(y), df1['Mike+'])\n",
        "    df1['Ken+'] = np.where(m, 'background-color: {}'.format(y), df1['Ken+'])\n",
        "    return df1\n",
        "\n",
        "\n",
        "display(df_chart2.style.apply(highlight_greater, axis=None))"
      ],
      "execution_count": 122,
      "outputs": [
        {
          "output_type": "display_data",
          "data": {
            "text/html": [
              "<style  type=\"text/css\" >\n",
              "#T_90db9ad4_b06d_11eb_a0a3_0242ac1c0002row0_col0,#T_90db9ad4_b06d_11eb_a0a3_0242ac1c0002row0_col1,#T_90db9ad4_b06d_11eb_a0a3_0242ac1c0002row0_col2,#T_90db9ad4_b06d_11eb_a0a3_0242ac1c0002row0_col3,#T_90db9ad4_b06d_11eb_a0a3_0242ac1c0002row0_col4,#T_90db9ad4_b06d_11eb_a0a3_0242ac1c0002row1_col1,#T_90db9ad4_b06d_11eb_a0a3_0242ac1c0002row1_col4,#T_90db9ad4_b06d_11eb_a0a3_0242ac1c0002row2_col1,#T_90db9ad4_b06d_11eb_a0a3_0242ac1c0002row2_col4,#T_90db9ad4_b06d_11eb_a0a3_0242ac1c0002row3_col0,#T_90db9ad4_b06d_11eb_a0a3_0242ac1c0002row3_col1,#T_90db9ad4_b06d_11eb_a0a3_0242ac1c0002row3_col2,#T_90db9ad4_b06d_11eb_a0a3_0242ac1c0002row3_col3,#T_90db9ad4_b06d_11eb_a0a3_0242ac1c0002row3_col4,#T_90db9ad4_b06d_11eb_a0a3_0242ac1c0002row4_col1,#T_90db9ad4_b06d_11eb_a0a3_0242ac1c0002row4_col4{\n",
              "            background-color:  ;\n",
              "        }#T_90db9ad4_b06d_11eb_a0a3_0242ac1c0002row1_col0,#T_90db9ad4_b06d_11eb_a0a3_0242ac1c0002row1_col2,#T_90db9ad4_b06d_11eb_a0a3_0242ac1c0002row1_col3,#T_90db9ad4_b06d_11eb_a0a3_0242ac1c0002row2_col0,#T_90db9ad4_b06d_11eb_a0a3_0242ac1c0002row2_col2,#T_90db9ad4_b06d_11eb_a0a3_0242ac1c0002row2_col3,#T_90db9ad4_b06d_11eb_a0a3_0242ac1c0002row4_col0,#T_90db9ad4_b06d_11eb_a0a3_0242ac1c0002row4_col2,#T_90db9ad4_b06d_11eb_a0a3_0242ac1c0002row4_col3{\n",
              "            background-color:  yellow;\n",
              "        }</style><table id=\"T_90db9ad4_b06d_11eb_a0a3_0242ac1c0002\" ><thead>    <tr>        <th class=\"index_name level0\" >Unnamed: 0</th>        <th class=\"col_heading level0 col0\" >Ken+</th>        <th class=\"col_heading level0 col1\" >Amy+</th>        <th class=\"col_heading level0 col2\" >Jef+</th>        <th class=\"col_heading level0 col3\" >Mike+</th>        <th class=\"col_heading level0 col4\" >Chris+</th>    </tr></thead><tbody>\n",
              "                <tr>\n",
              "                        <th id=\"T_90db9ad4_b06d_11eb_a0a3_0242ac1c0002level0_row0\" class=\"row_heading level0 row0\" >The Piano</th>\n",
              "                        <td id=\"T_90db9ad4_b06d_11eb_a0a3_0242ac1c0002row0_col0\" class=\"data row0 col0\" >1</td>\n",
              "                        <td id=\"T_90db9ad4_b06d_11eb_a0a3_0242ac1c0002row0_col1\" class=\"data row0 col1\" >0</td>\n",
              "                        <td id=\"T_90db9ad4_b06d_11eb_a0a3_0242ac1c0002row0_col2\" class=\"data row0 col2\" >0</td>\n",
              "                        <td id=\"T_90db9ad4_b06d_11eb_a0a3_0242ac1c0002row0_col3\" class=\"data row0 col3\" >1</td>\n",
              "                        <td id=\"T_90db9ad4_b06d_11eb_a0a3_0242ac1c0002row0_col4\" class=\"data row0 col4\" >0</td>\n",
              "            </tr>\n",
              "            <tr>\n",
              "                        <th id=\"T_90db9ad4_b06d_11eb_a0a3_0242ac1c0002level0_row1\" class=\"row_heading level0 row1\" >Pulp Fiction</th>\n",
              "                        <td id=\"T_90db9ad4_b06d_11eb_a0a3_0242ac1c0002row1_col0\" class=\"data row1 col0\" >1</td>\n",
              "                        <td id=\"T_90db9ad4_b06d_11eb_a0a3_0242ac1c0002row1_col1\" class=\"data row1 col1\" >0</td>\n",
              "                        <td id=\"T_90db9ad4_b06d_11eb_a0a3_0242ac1c0002row1_col2\" class=\"data row1 col2\" >1</td>\n",
              "                        <td id=\"T_90db9ad4_b06d_11eb_a0a3_0242ac1c0002row1_col3\" class=\"data row1 col3\" >1</td>\n",
              "                        <td id=\"T_90db9ad4_b06d_11eb_a0a3_0242ac1c0002row1_col4\" class=\"data row1 col4\" >0</td>\n",
              "            </tr>\n",
              "            <tr>\n",
              "                        <th id=\"T_90db9ad4_b06d_11eb_a0a3_0242ac1c0002level0_row2\" class=\"row_heading level0 row2\" >Clueless</th>\n",
              "                        <td id=\"T_90db9ad4_b06d_11eb_a0a3_0242ac1c0002row2_col0\" class=\"data row2 col0\" >0</td>\n",
              "                        <td id=\"T_90db9ad4_b06d_11eb_a0a3_0242ac1c0002row2_col1\" class=\"data row2 col1\" >1</td>\n",
              "                        <td id=\"T_90db9ad4_b06d_11eb_a0a3_0242ac1c0002row2_col2\" class=\"data row2 col2\" >0</td>\n",
              "                        <td id=\"T_90db9ad4_b06d_11eb_a0a3_0242ac1c0002row2_col3\" class=\"data row2 col3\" >0</td>\n",
              "                        <td id=\"T_90db9ad4_b06d_11eb_a0a3_0242ac1c0002row2_col4\" class=\"data row2 col4\" >1</td>\n",
              "            </tr>\n",
              "            <tr>\n",
              "                        <th id=\"T_90db9ad4_b06d_11eb_a0a3_0242ac1c0002level0_row3\" class=\"row_heading level0 row3\" >Cliffhanger</th>\n",
              "                        <td id=\"T_90db9ad4_b06d_11eb_a0a3_0242ac1c0002row3_col0\" class=\"data row3 col0\" >1</td>\n",
              "                        <td id=\"T_90db9ad4_b06d_11eb_a0a3_0242ac1c0002row3_col1\" class=\"data row3 col1\" >0</td>\n",
              "                        <td id=\"T_90db9ad4_b06d_11eb_a0a3_0242ac1c0002row3_col2\" class=\"data row3 col2\" >0</td>\n",
              "                        <td id=\"T_90db9ad4_b06d_11eb_a0a3_0242ac1c0002row3_col3\" class=\"data row3 col3\" >1</td>\n",
              "                        <td id=\"T_90db9ad4_b06d_11eb_a0a3_0242ac1c0002row3_col4\" class=\"data row3 col4\" >0</td>\n",
              "            </tr>\n",
              "            <tr>\n",
              "                        <th id=\"T_90db9ad4_b06d_11eb_a0a3_0242ac1c0002level0_row4\" class=\"row_heading level0 row4\" >Fargo</th>\n",
              "                        <td id=\"T_90db9ad4_b06d_11eb_a0a3_0242ac1c0002row4_col0\" class=\"data row4 col0\" >?</td>\n",
              "                        <td id=\"T_90db9ad4_b06d_11eb_a0a3_0242ac1c0002row4_col1\" class=\"data row4 col1\" >0</td>\n",
              "                        <td id=\"T_90db9ad4_b06d_11eb_a0a3_0242ac1c0002row4_col2\" class=\"data row4 col2\" >1</td>\n",
              "                        <td id=\"T_90db9ad4_b06d_11eb_a0a3_0242ac1c0002row4_col3\" class=\"data row4 col3\" >1</td>\n",
              "                        <td id=\"T_90db9ad4_b06d_11eb_a0a3_0242ac1c0002row4_col4\" class=\"data row4 col4\" >0</td>\n",
              "            </tr>\n",
              "    </tbody></table>"
            ],
            "text/plain": [
              "<pandas.io.formats.style.Styler at 0x7f28cc2cfed0>"
            ]
          },
          "metadata": {
            "tags": []
          }
        },
        {
          "output_type": "display_data",
          "data": {
            "text/html": [
              "<style  type=\"text/css\" >\n",
              "#T_90dd6a4e_b06d_11eb_a0a3_0242ac1c0002row0_col0,#T_90dd6a4e_b06d_11eb_a0a3_0242ac1c0002row0_col3,#T_90dd6a4e_b06d_11eb_a0a3_0242ac1c0002row1_col0,#T_90dd6a4e_b06d_11eb_a0a3_0242ac1c0002row1_col3,#T_90dd6a4e_b06d_11eb_a0a3_0242ac1c0002row2_col0,#T_90dd6a4e_b06d_11eb_a0a3_0242ac1c0002row2_col3,#T_90dd6a4e_b06d_11eb_a0a3_0242ac1c0002row3_col0,#T_90dd6a4e_b06d_11eb_a0a3_0242ac1c0002row3_col3,#T_90dd6a4e_b06d_11eb_a0a3_0242ac1c0002row4_col0,#T_90dd6a4e_b06d_11eb_a0a3_0242ac1c0002row4_col3{\n",
              "            background-color:  orange;\n",
              "        }#T_90dd6a4e_b06d_11eb_a0a3_0242ac1c0002row0_col1,#T_90dd6a4e_b06d_11eb_a0a3_0242ac1c0002row0_col2,#T_90dd6a4e_b06d_11eb_a0a3_0242ac1c0002row0_col4,#T_90dd6a4e_b06d_11eb_a0a3_0242ac1c0002row1_col1,#T_90dd6a4e_b06d_11eb_a0a3_0242ac1c0002row1_col2,#T_90dd6a4e_b06d_11eb_a0a3_0242ac1c0002row1_col4,#T_90dd6a4e_b06d_11eb_a0a3_0242ac1c0002row2_col1,#T_90dd6a4e_b06d_11eb_a0a3_0242ac1c0002row2_col2,#T_90dd6a4e_b06d_11eb_a0a3_0242ac1c0002row2_col4,#T_90dd6a4e_b06d_11eb_a0a3_0242ac1c0002row3_col1,#T_90dd6a4e_b06d_11eb_a0a3_0242ac1c0002row3_col2,#T_90dd6a4e_b06d_11eb_a0a3_0242ac1c0002row3_col4,#T_90dd6a4e_b06d_11eb_a0a3_0242ac1c0002row4_col1,#T_90dd6a4e_b06d_11eb_a0a3_0242ac1c0002row4_col2,#T_90dd6a4e_b06d_11eb_a0a3_0242ac1c0002row4_col4{\n",
              "            background-color:  ;\n",
              "        }</style><table id=\"T_90dd6a4e_b06d_11eb_a0a3_0242ac1c0002\" ><thead>    <tr>        <th class=\"index_name level0\" >Unnamed: 0</th>        <th class=\"col_heading level0 col0\" >Ken+</th>        <th class=\"col_heading level0 col1\" >Amy+</th>        <th class=\"col_heading level0 col2\" >Jef+</th>        <th class=\"col_heading level0 col3\" >Mike+</th>        <th class=\"col_heading level0 col4\" >Chris+</th>    </tr></thead><tbody>\n",
              "                <tr>\n",
              "                        <th id=\"T_90dd6a4e_b06d_11eb_a0a3_0242ac1c0002level0_row0\" class=\"row_heading level0 row0\" >The Piano</th>\n",
              "                        <td id=\"T_90dd6a4e_b06d_11eb_a0a3_0242ac1c0002row0_col0\" class=\"data row0 col0\" >1</td>\n",
              "                        <td id=\"T_90dd6a4e_b06d_11eb_a0a3_0242ac1c0002row0_col1\" class=\"data row0 col1\" >0</td>\n",
              "                        <td id=\"T_90dd6a4e_b06d_11eb_a0a3_0242ac1c0002row0_col2\" class=\"data row0 col2\" >0</td>\n",
              "                        <td id=\"T_90dd6a4e_b06d_11eb_a0a3_0242ac1c0002row0_col3\" class=\"data row0 col3\" >1</td>\n",
              "                        <td id=\"T_90dd6a4e_b06d_11eb_a0a3_0242ac1c0002row0_col4\" class=\"data row0 col4\" >0</td>\n",
              "            </tr>\n",
              "            <tr>\n",
              "                        <th id=\"T_90dd6a4e_b06d_11eb_a0a3_0242ac1c0002level0_row1\" class=\"row_heading level0 row1\" >Pulp Fiction</th>\n",
              "                        <td id=\"T_90dd6a4e_b06d_11eb_a0a3_0242ac1c0002row1_col0\" class=\"data row1 col0\" >1</td>\n",
              "                        <td id=\"T_90dd6a4e_b06d_11eb_a0a3_0242ac1c0002row1_col1\" class=\"data row1 col1\" >0</td>\n",
              "                        <td id=\"T_90dd6a4e_b06d_11eb_a0a3_0242ac1c0002row1_col2\" class=\"data row1 col2\" >1</td>\n",
              "                        <td id=\"T_90dd6a4e_b06d_11eb_a0a3_0242ac1c0002row1_col3\" class=\"data row1 col3\" >1</td>\n",
              "                        <td id=\"T_90dd6a4e_b06d_11eb_a0a3_0242ac1c0002row1_col4\" class=\"data row1 col4\" >0</td>\n",
              "            </tr>\n",
              "            <tr>\n",
              "                        <th id=\"T_90dd6a4e_b06d_11eb_a0a3_0242ac1c0002level0_row2\" class=\"row_heading level0 row2\" >Clueless</th>\n",
              "                        <td id=\"T_90dd6a4e_b06d_11eb_a0a3_0242ac1c0002row2_col0\" class=\"data row2 col0\" >0</td>\n",
              "                        <td id=\"T_90dd6a4e_b06d_11eb_a0a3_0242ac1c0002row2_col1\" class=\"data row2 col1\" >1</td>\n",
              "                        <td id=\"T_90dd6a4e_b06d_11eb_a0a3_0242ac1c0002row2_col2\" class=\"data row2 col2\" >0</td>\n",
              "                        <td id=\"T_90dd6a4e_b06d_11eb_a0a3_0242ac1c0002row2_col3\" class=\"data row2 col3\" >0</td>\n",
              "                        <td id=\"T_90dd6a4e_b06d_11eb_a0a3_0242ac1c0002row2_col4\" class=\"data row2 col4\" >1</td>\n",
              "            </tr>\n",
              "            <tr>\n",
              "                        <th id=\"T_90dd6a4e_b06d_11eb_a0a3_0242ac1c0002level0_row3\" class=\"row_heading level0 row3\" >Cliffhanger</th>\n",
              "                        <td id=\"T_90dd6a4e_b06d_11eb_a0a3_0242ac1c0002row3_col0\" class=\"data row3 col0\" >1</td>\n",
              "                        <td id=\"T_90dd6a4e_b06d_11eb_a0a3_0242ac1c0002row3_col1\" class=\"data row3 col1\" >0</td>\n",
              "                        <td id=\"T_90dd6a4e_b06d_11eb_a0a3_0242ac1c0002row3_col2\" class=\"data row3 col2\" >0</td>\n",
              "                        <td id=\"T_90dd6a4e_b06d_11eb_a0a3_0242ac1c0002row3_col3\" class=\"data row3 col3\" >1</td>\n",
              "                        <td id=\"T_90dd6a4e_b06d_11eb_a0a3_0242ac1c0002row3_col4\" class=\"data row3 col4\" >0</td>\n",
              "            </tr>\n",
              "            <tr>\n",
              "                        <th id=\"T_90dd6a4e_b06d_11eb_a0a3_0242ac1c0002level0_row4\" class=\"row_heading level0 row4\" >Fargo</th>\n",
              "                        <td id=\"T_90dd6a4e_b06d_11eb_a0a3_0242ac1c0002row4_col0\" class=\"data row4 col0\" >?</td>\n",
              "                        <td id=\"T_90dd6a4e_b06d_11eb_a0a3_0242ac1c0002row4_col1\" class=\"data row4 col1\" >0</td>\n",
              "                        <td id=\"T_90dd6a4e_b06d_11eb_a0a3_0242ac1c0002row4_col2\" class=\"data row4 col2\" >1</td>\n",
              "                        <td id=\"T_90dd6a4e_b06d_11eb_a0a3_0242ac1c0002row4_col3\" class=\"data row4 col3\" >1</td>\n",
              "                        <td id=\"T_90dd6a4e_b06d_11eb_a0a3_0242ac1c0002row4_col4\" class=\"data row4 col4\" >0</td>\n",
              "            </tr>\n",
              "    </tbody></table>"
            ],
            "text/plain": [
              "<pandas.io.formats.style.Styler at 0x7f28de5cda90>"
            ]
          },
          "metadata": {
            "tags": []
          }
        }
      ]
    },
    {
      "cell_type": "markdown",
      "metadata": {
        "id": "jhqfscgzz9dS"
      },
      "source": [
        "Based on the distance, considering Ken and Mike has a 0.0 distance, which is overlapping, then Ken will be 100% likely to recommend Fargo as Mike does.\n",
        "If consider Ken's nearest 2 neighbor which are Mike(0.0) and Jef(0.5), then Ken will be 75% likely to recommend Fargo as both Mike and Jef do."
      ]
    },
    {
      "cell_type": "markdown",
      "metadata": {
        "id": "GZ9P8Wmm3XQQ"
      },
      "source": [
        "# **Part 3 Sklearn Package Testing**\n"
      ]
    },
    {
      "cell_type": "code",
      "metadata": {
        "colab": {
          "base_uri": "https://localhost:8080/",
          "height": 306
        },
        "id": "j3dbrsHQ2v7t",
        "outputId": "8741b7ff-2d61-4fee-f418-b482b2173e39"
      },
      "source": [
        "df00 = df.copy()\n",
        "df00 = df00.transpose()\n",
        "df00.columns = df00.iloc[0]\n",
        "df00 = df00.drop(columns=['Amy-', 'Jef-', 'Mike-', 'Chris-', 'Ken-', 'Ken+'])\n",
        "df00 = df00.transpose()\n",
        "df00 = df00.drop(columns='Unnamed: 0')\n",
        "fargo = df00['Fargo']\n",
        "df00 = df00.drop(columns='Fargo')\n",
        "display(df00)\n",
        "print(fargo)\n",
        "#this dataset excludes Fargo and Ken"
      ],
      "execution_count": null,
      "outputs": [
        {
          "output_type": "display_data",
          "data": {
            "text/html": [
              "<div>\n",
              "<style scoped>\n",
              "    .dataframe tbody tr th:only-of-type {\n",
              "        vertical-align: middle;\n",
              "    }\n",
              "\n",
              "    .dataframe tbody tr th {\n",
              "        vertical-align: top;\n",
              "    }\n",
              "\n",
              "    .dataframe thead th {\n",
              "        text-align: right;\n",
              "    }\n",
              "</style>\n",
              "<table border=\"1\" class=\"dataframe\">\n",
              "  <thead>\n",
              "    <tr style=\"text-align: right;\">\n",
              "      <th></th>\n",
              "      <th>The Piano</th>\n",
              "      <th>Pulp Fiction</th>\n",
              "      <th>Clueless</th>\n",
              "      <th>Cliffhanger</th>\n",
              "    </tr>\n",
              "    <tr>\n",
              "      <th>Unnamed: 0</th>\n",
              "      <th></th>\n",
              "      <th></th>\n",
              "      <th></th>\n",
              "      <th></th>\n",
              "    </tr>\n",
              "  </thead>\n",
              "  <tbody>\n",
              "    <tr>\n",
              "      <th>Amy+</th>\n",
              "      <td>0</td>\n",
              "      <td>0</td>\n",
              "      <td>1</td>\n",
              "      <td>0</td>\n",
              "    </tr>\n",
              "    <tr>\n",
              "      <th>Jef+</th>\n",
              "      <td>0</td>\n",
              "      <td>1</td>\n",
              "      <td>0</td>\n",
              "      <td>0</td>\n",
              "    </tr>\n",
              "    <tr>\n",
              "      <th>Mike+</th>\n",
              "      <td>1</td>\n",
              "      <td>1</td>\n",
              "      <td>0</td>\n",
              "      <td>1</td>\n",
              "    </tr>\n",
              "    <tr>\n",
              "      <th>Chris+</th>\n",
              "      <td>0</td>\n",
              "      <td>0</td>\n",
              "      <td>1</td>\n",
              "      <td>0</td>\n",
              "    </tr>\n",
              "  </tbody>\n",
              "</table>\n",
              "</div>"
            ],
            "text/plain": [
              "           The Piano Pulp Fiction Clueless Cliffhanger\n",
              "Unnamed: 0                                            \n",
              "Amy+               0            0        1           0\n",
              "Jef+               0            1        0           0\n",
              "Mike+              1            1        0           1\n",
              "Chris+             0            0        1           0"
            ]
          },
          "metadata": {
            "tags": []
          }
        },
        {
          "output_type": "stream",
          "text": [
            "Unnamed: 0\n",
            "Amy+      0\n",
            "Jef+      1\n",
            "Mike+     1\n",
            "Chris+    0\n",
            "Name: Fargo, dtype: object\n"
          ],
          "name": "stdout"
        }
      ]
    },
    {
      "cell_type": "code",
      "metadata": {
        "colab": {
          "base_uri": "https://localhost:8080/"
        },
        "id": "DaTcx3SY38zo",
        "outputId": "0f55c3d7-24d9-4168-841b-6e1b4044ea62"
      },
      "source": [
        "from sklearn.neighbors import KNeighborsClassifier\n",
        "\n",
        "# y is the dependent variable, Fargo(testing dataset)\n",
        "# X is the training dataset\n",
        "y = fargo\n",
        "X = df00\n",
        "\n",
        "clf = KNeighborsClassifier(metric='euclidean', n_neighbors=3).fit(X,y)\n",
        "\n",
        "# Report the performance over the test partition\n",
        "\n",
        "from sklearn import metrics\n",
        "\n",
        "model_object = clf\n",
        "\n",
        "# obtain the AUC of the k-NN model\n",
        "print(metrics.roc_auc_score(y, clf.predict_proba(X)[:, 1]))"
      ],
      "execution_count": null,
      "outputs": [
        {
          "output_type": "stream",
          "text": [
            "1.0\n"
          ],
          "name": "stdout"
        }
      ]
    },
    {
      "cell_type": "markdown",
      "metadata": {
        "id": "Sdef81FL4DJS"
      },
      "source": [
        "\n",
        "\n",
        "---\n",
        "\n",
        "\n",
        "AUC measures of the ability of a classifier to distinguish between classes and is used as a summary of the ROC curve. The higher the AUC, the better the performance of the model at distinguishing between the positive and negative classes.\n",
        "\n",
        "In the end, 1.0 is the highest score in AUC. This shows the training dataset(everyone except Ken and all movie except Fargo) classifies highly accurately on the testing dataset(Fargo without Ken), thus supports my model's positive performance which is based on simple matching coefficient algorithm.\n",
        "\n",
        "\n",
        "---\n",
        "\n"
      ]
    }
  ]
}