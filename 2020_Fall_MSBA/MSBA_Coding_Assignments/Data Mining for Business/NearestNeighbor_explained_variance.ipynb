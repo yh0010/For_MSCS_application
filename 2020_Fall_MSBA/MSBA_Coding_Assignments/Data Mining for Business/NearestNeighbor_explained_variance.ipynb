{
  "nbformat": 4,
  "nbformat_minor": 0,
  "metadata": {
    "colab": {
      "name": "NearestNeighbor_explained_variance.ipynb",
      "provenance": [],
      "collapsed_sections": []
    },
    "kernelspec": {
      "name": "python3",
      "display_name": "Python 3"
    }
  },
  "cells": [
    {
      "cell_type": "markdown",
      "metadata": {
        "id": "wW0t6oETH3GR"
      },
      "source": [
        "### Data Prep"
      ]
    },
    {
      "cell_type": "code",
      "metadata": {
        "id": "dSrlMudVzkLK",
        "colab": {
          "resources": {
            "http://localhost:8080/nbextensions/google.colab/files.js": {
              "data": "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",
              "ok": true,
              "headers": [
                [
                  "content-type",
                  "application/javascript"
                ]
              ],
              "status": 200,
              "status_text": ""
            }
          },
          "base_uri": "https://localhost:8080/",
          "height": 72
        },
        "outputId": "52f92c8b-3789-4e48-a1a6-16d2f117dda8"
      },
      "source": [
        "# Load the data from the Apporto machine to the Colab environment\n",
        "\n",
        "from google.colab import files\n",
        "uploaded = files.upload()"
      ],
      "execution_count": 4,
      "outputs": [
        {
          "output_type": "display_data",
          "data": {
            "text/html": [
              "\n",
              "     <input type=\"file\" id=\"files-1fd2bdea-6757-437e-b04d-65da8e9af75c\" name=\"files[]\" multiple disabled\n",
              "        style=\"border:none\" />\n",
              "     <output id=\"result-1fd2bdea-6757-437e-b04d-65da8e9af75c\">\n",
              "      Upload widget is only available when the cell has been executed in the\n",
              "      current browser session. Please rerun this cell to enable.\n",
              "      </output>\n",
              "      <script src=\"/nbextensions/google.colab/files.js\"></script> "
            ],
            "text/plain": [
              "<IPython.core.display.HTML object>"
            ]
          },
          "metadata": {
            "tags": []
          }
        },
        {
          "output_type": "stream",
          "text": [
            "Saving listings.csv to listings.csv\n"
          ],
          "name": "stdout"
        }
      ]
    },
    {
      "cell_type": "code",
      "metadata": {
        "id": "4i9RU4C60E2e"
      },
      "source": [
        "# Pandas is the Python package for data frames\n",
        "\n",
        "import pandas as pd"
      ],
      "execution_count": 5,
      "outputs": []
    },
    {
      "cell_type": "code",
      "metadata": {
        "id": "qx6Gdgiv03zY",
        "colab": {
          "base_uri": "https://localhost:8080/"
        },
        "outputId": "56b26f5d-20b2-4f46-ba03-49a75131bfef"
      },
      "source": [
        "# Part 1 Data Acquisition\n",
        "\n",
        "# Read data from a CSV file into a data frame\n",
        "\n",
        "df = pd.read_csv('listings.csv')\n",
        "\n",
        "# Display the first ten rows of the data frame to examine if it is an individual-level data set\n",
        "print(df.head(10))\n",
        "\n",
        "# Display the variable list\n",
        "print(df.columns.values)\n",
        "\n",
        "# Display the number of rows and the number of columns in the data set to confirm the portrait shape\n",
        "# The first element of the output is the number of rows and the second is the number of columns \n",
        "print(df.shape)"
      ],
      "execution_count": 6,
      "outputs": [
        {
          "output_type": "stream",
          "text": [
            "     id  ... reviews_per_month\n",
            "0  2595  ...              0.37\n",
            "1  3831  ...              4.82\n",
            "2  5121  ...              0.36\n",
            "3  5136  ...              0.01\n",
            "4  5178  ...              3.42\n",
            "5  5203  ...              0.88\n",
            "6  5238  ...              1.20\n",
            "7  5552  ...              0.49\n",
            "8  5803  ...              1.30\n",
            "9  6021  ...              0.89\n",
            "\n",
            "[10 rows x 74 columns]\n",
            "['id' 'listing_url' 'scrape_id' 'last_scraped' 'name' 'description'\n",
            " 'neighborhood_overview' 'picture_url' 'host_id' 'host_url' 'host_name'\n",
            " 'host_since' 'host_location' 'host_about' 'host_response_time'\n",
            " 'host_response_rate' 'host_acceptance_rate' 'host_is_superhost'\n",
            " 'host_thumbnail_url' 'host_picture_url' 'host_neighbourhood'\n",
            " 'host_listings_count' 'host_total_listings_count' 'host_verifications'\n",
            " 'host_has_profile_pic' 'host_identity_verified' 'neighbourhood'\n",
            " 'neighbourhood_cleansed' 'neighbourhood_group_cleansed' 'latitude'\n",
            " 'longitude' 'property_type' 'room_type' 'accommodates' 'bathrooms'\n",
            " 'bathrooms_text' 'bedrooms' 'beds' 'amenities' 'price' 'minimum_nights'\n",
            " 'maximum_nights' 'minimum_minimum_nights' 'maximum_minimum_nights'\n",
            " 'minimum_maximum_nights' 'maximum_maximum_nights'\n",
            " 'minimum_nights_avg_ntm' 'maximum_nights_avg_ntm' 'calendar_updated'\n",
            " 'has_availability' 'availability_30' 'availability_60' 'availability_90'\n",
            " 'availability_365' 'calendar_last_scraped' 'number_of_reviews'\n",
            " 'number_of_reviews_ltm' 'number_of_reviews_l30d' 'first_review'\n",
            " 'last_review' 'review_scores_rating' 'review_scores_accuracy'\n",
            " 'review_scores_cleanliness' 'review_scores_checkin'\n",
            " 'review_scores_communication' 'review_scores_location'\n",
            " 'review_scores_value' 'license' 'instant_bookable'\n",
            " 'calculated_host_listings_count'\n",
            " 'calculated_host_listings_count_entire_homes'\n",
            " 'calculated_host_listings_count_private_rooms'\n",
            " 'calculated_host_listings_count_shared_rooms' 'reviews_per_month']\n",
            "(45756, 74)\n"
          ],
          "name": "stdout"
        }
      ]
    },
    {
      "cell_type": "code",
      "metadata": {
        "id": "MAPvNZGtPkQP",
        "colab": {
          "base_uri": "https://localhost:8080/"
        },
        "outputId": "e5645a22-75a2-4204-dd2d-2088aeaf31e8"
      },
      "source": [
        "# Dropping all redundant variables. Variables we will not be considering in our model\n",
        "rvar_list = ['id', 'listing_url', 'scrape_id', 'last_scraped', 'name', 'description',\n",
        " 'neighborhood_overview', 'picture_url', 'host_id', 'host_url', 'host_name',\n",
        " 'host_since', 'host_location', 'host_about', 'host_response_time',\n",
        " 'host_response_rate', 'host_acceptance_rate', 'host_is_superhost',\n",
        " 'host_thumbnail_url', 'host_picture_url', 'host_neighbourhood',\n",
        "  'host_total_listings_count', 'host_verifications',\n",
        " 'host_has_profile_pic', 'host_identity_verified', 'neighbourhood',\n",
        " 'neighbourhood_cleansed',  'latitude',\n",
        " 'longitude', 'property_type', 'accommodates', 'bathrooms',\n",
        " 'bathrooms_text',  'amenities', 'minimum_nights',\n",
        " 'maximum_nights', 'minimum_minimum_nights', 'maximum_minimum_nights',\n",
        " 'minimum_maximum_nights', 'maximum_maximum_nights',\n",
        " 'minimum_nights_avg_ntm', 'maximum_nights_avg_ntm', 'calendar_updated',\n",
        " 'has_availability', 'availability_60', 'availability_90',\n",
        " 'availability_365', 'calendar_last_scraped', \n",
        " 'number_of_reviews_ltm', 'number_of_reviews_l30d', 'first_review',\n",
        " 'last_review', 'review_scores_accuracy',\n",
        " 'review_scores_cleanliness', 'review_scores_checkin',\n",
        " 'review_scores_communication', 'review_scores_location',\n",
        " 'review_scores_value', 'license', \n",
        " 'calculated_host_listings_count',\n",
        " 'calculated_host_listings_count_entire_homes',\n",
        " 'calculated_host_listings_count_private_rooms',\n",
        " 'calculated_host_listings_count_shared_rooms']\n",
        "df1 = df.copy()\n",
        "df1 = df.drop(columns=rvar_list)\n",
        "\n",
        "# Setting up variable types\n",
        "cat_vars = ['neighbourhood_group_cleansed', 'room_type', 'instant_bookable']\n",
        "num_vars = ['bedrooms', 'review_scores_rating', 'beds', 'host_listings_count', 'number_of_reviews', 'availability_30', 'reviews_per_month', 'price']\n",
        "\n",
        "# Checking for and dealing with nulls\n",
        "print(df1.isnull().sum())\n",
        "\n",
        "df2 = df1.copy()\n",
        "df2['host_listings_count'] = df1['host_listings_count'].fillna(value = df1['host_listings_count'].median())\n",
        "df2['bedrooms'] = df1['bedrooms'].fillna(value = df1['bedrooms'].median())\n",
        "df2['beds'] = df1['beds'].fillna(value = df1['beds'].median())\n",
        "df2['review_scores_rating'] = df1['review_scores_rating'].fillna(value = df1['review_scores_rating'].median())\n",
        "df2['reviews_per_month'] = df1['reviews_per_month'].fillna(value = df1['reviews_per_month'].median())\n",
        "\n",
        "print(df2.isnull().sum())"
      ],
      "execution_count": 7,
      "outputs": [
        {
          "output_type": "stream",
          "text": [
            "host_listings_count                14\n",
            "neighbourhood_group_cleansed        0\n",
            "room_type                           0\n",
            "bedrooms                         4407\n",
            "beds                              505\n",
            "price                               0\n",
            "availability_30                     0\n",
            "number_of_reviews                   0\n",
            "review_scores_rating            11702\n",
            "instant_bookable                    0\n",
            "reviews_per_month               10633\n",
            "dtype: int64\n",
            "host_listings_count             0\n",
            "neighbourhood_group_cleansed    0\n",
            "room_type                       0\n",
            "bedrooms                        0\n",
            "beds                            0\n",
            "price                           0\n",
            "availability_30                 0\n",
            "number_of_reviews               0\n",
            "review_scores_rating            0\n",
            "instant_bookable                0\n",
            "reviews_per_month               0\n",
            "dtype: int64\n"
          ],
          "name": "stdout"
        }
      ]
    },
    {
      "cell_type": "code",
      "metadata": {
        "id": "62KhUgPoQaeJ",
        "colab": {
          "base_uri": "https://localhost:8080/"
        },
        "outputId": "26499132-60b0-4519-9a01-06c98db3dc76"
      },
      "source": [
        "# Standardization\n",
        "df3 = df2.copy()\n",
        "df3[num_vars] = (df2[num_vars] - df2[num_vars].mean())/df2[num_vars].std()\n",
        "\n",
        "# There's some error with availability_30, where it won't properly standardize unless it gets its own line for some reason\n",
        "df3['availability_30'] = (df2['availability_30'] - df2['availability_30'].mean())/df2['availability_30'].std()\n",
        "\n",
        "# Setting data types\n",
        "df4 = df3.copy()\n",
        "df4[cat_vars] = df3[cat_vars].astype('category')\n",
        "df4[num_vars] = df3[num_vars].astype('float64')\n",
        "\n",
        "# Making dummies\n",
        "df5 = df4.copy()\n",
        "df5 = pd.get_dummies(df4, prefix_sep='_')\n",
        "\n",
        "print(df5.columns.values)"
      ],
      "execution_count": 25,
      "outputs": [
        {
          "output_type": "stream",
          "text": [
            "['host_listings_count' 'bedrooms' 'beds' 'price' 'availability_30'\n",
            " 'number_of_reviews' 'review_scores_rating' 'reviews_per_month'\n",
            " 'neighbourhood_group_cleansed_Bronx'\n",
            " 'neighbourhood_group_cleansed_Brooklyn'\n",
            " 'neighbourhood_group_cleansed_Manhattan'\n",
            " 'neighbourhood_group_cleansed_Queens'\n",
            " 'neighbourhood_group_cleansed_Staten Island' 'room_type_Entire home/apt'\n",
            " 'room_type_Hotel room' 'room_type_Private room' 'room_type_Shared room'\n",
            " 'instant_bookable_f' 'instant_bookable_t']\n"
          ],
          "name": "stdout"
        }
      ]
    },
    {
      "cell_type": "code",
      "metadata": {
        "id": "K4YEnVs7DNP0",
        "colab": {
          "base_uri": "https://localhost:8080/",
          "height": 117
        },
        "outputId": "b8369369-5cdf-4e1a-9db1-b79554706ece"
      },
      "source": [
        "# Checking most common dummies\n",
        "df5.mode()"
      ],
      "execution_count": 26,
      "outputs": [
        {
          "output_type": "execute_result",
          "data": {
            "text/html": [
              "<div>\n",
              "<style scoped>\n",
              "    .dataframe tbody tr th:only-of-type {\n",
              "        vertical-align: middle;\n",
              "    }\n",
              "\n",
              "    .dataframe tbody tr th {\n",
              "        vertical-align: top;\n",
              "    }\n",
              "\n",
              "    .dataframe thead th {\n",
              "        text-align: right;\n",
              "    }\n",
              "</style>\n",
              "<table border=\"1\" class=\"dataframe\">\n",
              "  <thead>\n",
              "    <tr style=\"text-align: right;\">\n",
              "      <th></th>\n",
              "      <th>host_listings_count</th>\n",
              "      <th>bedrooms</th>\n",
              "      <th>beds</th>\n",
              "      <th>price</th>\n",
              "      <th>availability_30</th>\n",
              "      <th>number_of_reviews</th>\n",
              "      <th>review_scores_rating</th>\n",
              "      <th>reviews_per_month</th>\n",
              "      <th>neighbourhood_group_cleansed_Bronx</th>\n",
              "      <th>neighbourhood_group_cleansed_Brooklyn</th>\n",
              "      <th>neighbourhood_group_cleansed_Manhattan</th>\n",
              "      <th>neighbourhood_group_cleansed_Queens</th>\n",
              "      <th>neighbourhood_group_cleansed_Staten Island</th>\n",
              "      <th>room_type_Entire home/apt</th>\n",
              "      <th>room_type_Hotel room</th>\n",
              "      <th>room_type_Private room</th>\n",
              "      <th>room_type_Shared room</th>\n",
              "      <th>instant_bookable_f</th>\n",
              "      <th>instant_bookable_t</th>\n",
              "    </tr>\n",
              "  </thead>\n",
              "  <tbody>\n",
              "    <tr>\n",
              "      <th>0</th>\n",
              "      <td>-0.122368</td>\n",
              "      <td>-0.774621</td>\n",
              "      <td>-0.461279</td>\n",
              "      <td>-0.354295</td>\n",
              "      <td>-0.774621</td>\n",
              "      <td>-0.485252</td>\n",
              "      <td>-0.403734</td>\n",
              "      <td>0.284756</td>\n",
              "      <td>0</td>\n",
              "      <td>0</td>\n",
              "      <td>0</td>\n",
              "      <td>0</td>\n",
              "      <td>0</td>\n",
              "      <td>1</td>\n",
              "      <td>0</td>\n",
              "      <td>0</td>\n",
              "      <td>0</td>\n",
              "      <td>1</td>\n",
              "      <td>0</td>\n",
              "    </tr>\n",
              "  </tbody>\n",
              "</table>\n",
              "</div>"
            ],
            "text/plain": [
              "   host_listings_count  bedrooms  ...  instant_bookable_f  instant_bookable_t\n",
              "0            -0.122368 -0.774621  ...                   1                   0\n",
              "\n",
              "[1 rows x 19 columns]"
            ]
          },
          "metadata": {
            "tags": []
          },
          "execution_count": 26
        }
      ]
    },
    {
      "cell_type": "code",
      "metadata": {
        "id": "L1Aljf4bC5qz",
        "colab": {
          "base_uri": "https://localhost:8080/"
        },
        "outputId": "4bbb862c-5a85-4788-d34e-07b877846cc3"
      },
      "source": [
        "# Removing redundant dummies\n",
        "rdummies = ['instant_bookable_f', 'room_type_Entire home/apt']\n",
        "df6 = df5.copy()\n",
        "df6 = df5.drop(columns=rdummies)\n",
        "\n",
        "print(df6.columns.values)\n",
        "print(df6)\n",
        "## df6.to_csv('AirbnbCleaned.csv',index=False) #I added this since we need to generate the csv as well. Feel free to fix it if it's coded wrongly lol -Gunita"
      ],
      "execution_count": 27,
      "outputs": [
        {
          "output_type": "stream",
          "text": [
            "['host_listings_count' 'bedrooms' 'beds' 'price' 'availability_30'\n",
            " 'number_of_reviews' 'review_scores_rating' 'reviews_per_month'\n",
            " 'neighbourhood_group_cleansed_Bronx'\n",
            " 'neighbourhood_group_cleansed_Brooklyn'\n",
            " 'neighbourhood_group_cleansed_Manhattan'\n",
            " 'neighbourhood_group_cleansed_Queens'\n",
            " 'neighbourhood_group_cleansed_Staten Island' 'room_type_Hotel room'\n",
            " 'room_type_Private room' 'room_type_Shared room' 'instant_bookable_t']\n",
            "       host_listings_count  bedrooms  ...  room_type_Shared room  instant_bookable_t\n",
            "0                -0.080487  1.583922  ...                      0                   0\n",
            "1                -0.122368  0.247414  ...                      0                   0\n",
            "2                -0.122368  1.583922  ...                      0                   0\n",
            "3                -0.122368  0.561887  ...                      0                   0\n",
            "4                -0.122368  1.190831  ...                      0                   0\n",
            "...                    ...       ...  ...                    ...                 ...\n",
            "45751            -0.122368  1.583922  ...                      0                   0\n",
            "45752            -0.113992  1.269449  ...                      0                   0\n",
            "45753            -0.122368  1.505304  ...                      0                   0\n",
            "45754            -0.122368  1.583922  ...                      0                   0\n",
            "45755             0.614740 -0.696003  ...                      0                   0\n",
            "\n",
            "[45756 rows x 17 columns]\n"
          ],
          "name": "stdout"
        }
      ]
    },
    {
      "cell_type": "markdown",
      "metadata": {
        "id": "SOyI1ay6Hy58"
      },
      "source": [
        "### Data Modeling with Nearest Neighbor"
      ]
    },
    {
      "cell_type": "code",
      "metadata": {
        "id": "rCOHqUSGhq8v",
        "colab": {
          "base_uri": "https://localhost:8080/"
        },
        "outputId": "5e5d9ed1-8630-4443-942f-2b93eaece4ac"
      },
      "source": [
        "# Part 5 Data Partiton\n",
        "\n",
        "# Required package: scikit-learn. Package name in Python: sklearn\n",
        "# Required subpackage: model_selection. Required function name: train_test_split\n",
        "from sklearn.model_selection import train_test_split\n",
        "\n",
        "# Placeholder variables: df4partition, testpart_size\n",
        "# test_size specifies the percentage for the test partition\n",
        "\n",
        "testpart_size = 0.2\n",
        "\n",
        "# random_state specifies the seed for random number generator. \n",
        "# random_state = 1 unless otherwised noted\n",
        "df_nontestData, df_testData = train_test_split(df6, test_size=testpart_size, random_state=1)\n",
        "\n",
        "print(df_nontestData)"
      ],
      "execution_count": 28,
      "outputs": [
        {
          "output_type": "stream",
          "text": [
            "       host_listings_count  bedrooms  ...  room_type_Shared room  instant_bookable_t\n",
            "10979            -0.122368 -0.774621  ...                      0                   0\n",
            "3243             -0.072111  1.505304  ...                      0                   0\n",
            "20881            -0.113992 -0.774621  ...                      0                   0\n",
            "43152            -0.130744 -0.774621  ...                      0                   0\n",
            "31224            -0.122368  1.348067  ...                      0                   0\n",
            "...                    ...       ...  ...                    ...                 ...\n",
            "43723            -0.130744  1.583922  ...                      0                   1\n",
            "32511            -0.130744  1.583922  ...                      0                   1\n",
            "5192             -0.113992 -0.774621  ...                      0                   1\n",
            "12172            -0.122368 -0.774621  ...                      0                   0\n",
            "33003            -0.113992 -0.145676  ...                      0                   1\n",
            "\n",
            "[36604 rows x 17 columns]\n"
          ],
          "name": "stdout"
        }
      ]
    },
    {
      "cell_type": "code",
      "metadata": {
        "id": "PgAZaTZuP_44"
      },
      "source": [
        "# Part 6 Nearest neighbor \n",
        "\n",
        "# Separate the predictor values and the DV values into X and y respectively\n",
        "# Placeholder variable: DV\n",
        "DV = 'price'\n",
        "y = df_nontestData[DV]\n",
        "X = df_nontestData.drop(columns=[DV])\n",
        "\n",
        "# First we build a kNN model with pre-specified k\n",
        "k = 5\n"
      ],
      "execution_count": 29,
      "outputs": []
    },
    {
      "cell_type": "code",
      "metadata": {
        "colab": {
          "base_uri": "https://localhost:8080/"
        },
        "id": "zONw8a7h5nIn",
        "outputId": "4090c688-b9b9-4a4a-d162-791596df1aa8"
      },
      "source": [
        "from sklearn.neighbors import KNeighborsRegressor\n",
        "\n",
        "clf = KNeighborsRegressor(metric='euclidean', n_neighbors=k).fit(X,y)\n",
        "\n",
        "# Report the performance over the test partition\n",
        "\n",
        "X_test = df_testData.drop(columns=DV)\n",
        "y_test = df_testData[DV]\n",
        "\n",
        "from sklearn import metrics\n",
        "\n",
        "model_object = clf\n",
        "\n",
        "# obtain the explained variance of the k-NN model with k=5\n",
        "print(metrics.explained_variance_score(y_test, model_object.predict(X_test)))"
      ],
      "execution_count": 30,
      "outputs": [
        {
          "output_type": "stream",
          "text": [
            "0.5742006729508411\n"
          ],
          "name": "stdout"
        }
      ]
    },
    {
      "cell_type": "code",
      "metadata": {
        "id": "2c1B0lDrq1SR"
      },
      "source": [
        "# Run Nearest neighbor with k-fold cross validation\n",
        "# Placeholder variable: kfolds\n",
        "kfolds = 5 #for cross validation\n",
        "\n",
        "# We first define the search scope. k (k-th nearest neighbor) will be increased from 1 to max_k\n",
        "max_k = 200\n",
        "\n",
        "param_grid = {'n_neighbors': list(range(1, max_k+1))}\n",
        "\n",
        "from sklearn.model_selection import GridSearchCV\n",
        "import time\n",
        "\n",
        "gridsearch = GridSearchCV(KNeighborsRegressor(metric='euclidean'), param_grid, scoring='explained_variance', cv=kfolds, n_jobs=-1)"
      ],
      "execution_count": 34,
      "outputs": []
    },
    {
      "cell_type": "code",
      "metadata": {
        "id": "Eea1rPoCzoYy"
      },
      "source": [
        "#calculate the time it takes to get the results\n",
        "start = time.time()\n",
        "gridsearch.fit(X,y)\n",
        "end = time.time() - start"
      ],
      "execution_count": 35,
      "outputs": []
    },
    {
      "cell_type": "code",
      "metadata": {
        "colab": {
          "base_uri": "https://localhost:8080/"
        },
        "id": "K_LPrfIgAat4",
        "outputId": "cd9fa14a-27d4-4fca-9823-d8c94b516a34"
      },
      "source": [
        "end #spent 3660 seconds to get the result"
      ],
      "execution_count": 36,
      "outputs": [
        {
          "output_type": "execute_result",
          "data": {
            "text/plain": [
              "3346.9287893772125"
            ]
          },
          "metadata": {
            "tags": []
          },
          "execution_count": 36
        }
      ]
    },
    {
      "cell_type": "code",
      "metadata": {
        "id": "OMhcs6SrxUhb"
      },
      "source": [
        "#use the function to calculate the optimal value\n",
        "clf_bestkNN = gridsearch.best_estimator_"
      ],
      "execution_count": 37,
      "outputs": []
    },
    {
      "cell_type": "code",
      "metadata": {
        "colab": {
          "base_uri": "https://localhost:8080/"
        },
        "id": "zXBxrTTVswX2",
        "outputId": "95013668-2945-4d5a-f957-f841851e024f"
      },
      "source": [
        "# Display the optimal k (k-th nearest neighbor)\n",
        "print(clf_bestkNN.n_neighbors)\n",
        "\n",
        "# y_test_actual is the actual values of the DV in the test partition\n",
        "y_test_actual = df_testData[DV]\n",
        "\n",
        "# X_test is the predictor values in the test partition\n",
        "X_test = df_testData.drop(columns=[DV])\n",
        "\n",
        "\n",
        "# Get the explained variance of the final selected k-NN model\n",
        "from sklearn.metrics import mean_squared_error\n",
        "print(metrics.explained_variance_score(y_test_actual, clf_bestkNN.predict(X_test)))"
      ],
      "execution_count": 40,
      "outputs": [
        {
          "output_type": "stream",
          "text": [
            "16\n",
            "0.6068180306049795\n"
          ],
          "name": "stdout"
        }
      ]
    }
  ]
}