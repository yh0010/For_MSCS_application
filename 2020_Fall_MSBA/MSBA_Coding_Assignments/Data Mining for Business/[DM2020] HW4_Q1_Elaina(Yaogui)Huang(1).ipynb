{
 "cells": [
  {
   "cell_type": "code",
   "execution_count": 145,
   "metadata": {},
   "outputs": [],
   "source": [
    "fhand = open('HW4_FlightDelays.csv')"
   ]
  },
  {
   "cell_type": "code",
   "execution_count": 146,
   "metadata": {},
   "outputs": [],
   "source": [
    "import pandas as pd\n",
    "import statistics"
   ]
  },
  {
   "cell_type": "code",
   "execution_count": 147,
   "metadata": {},
   "outputs": [],
   "source": [
    "df = pd.read_csv('HW4_FlightDelays.csv')"
   ]
  },
  {
   "cell_type": "code",
   "execution_count": 148,
   "metadata": {},
   "outputs": [
    {
     "name": "stdout",
     "output_type": "stream",
     "text": [
      "   Binned_CRS_DEP_TIME CARRIER DEST ORIGIN  Weather  DAY_WEEK Flight_Status\n",
      "0                    5      DH  LGA    IAD        0         5       Delayed\n",
      "1                    3      DH  LGA    IAD        0         5       Delayed\n",
      "2                    8      DH  JFK    IAD        0         5       Delayed\n",
      "3                    4      DH  EWR    IAD        0         5       Delayed\n",
      "4                    5      DH  EWR    IAD        0         5       Delayed\n",
      "5                    5      RU  EWR    IAD        0         5       Delayed\n",
      "6                    8      DH  JFK    IAD        0         6       Delayed\n",
      "7                    5      DL  JFK    DCA        0         6       Delayed\n",
      "8                    5      MQ  JFK    DCA        0         6       Delayed\n",
      "9                    2      DH  EWR    IAD        0         6       Delayed\n",
      "['Binned_CRS_DEP_TIME' 'CARRIER' 'DEST' 'ORIGIN' 'Weather' 'DAY_WEEK'\n",
      " 'Flight_Status']\n",
      "(1319, 7)\n"
     ]
    }
   ],
   "source": [
    "print(df.head(10))\n",
    "\n",
    "# Display the variable list\n",
    "print(df.columns.values)\n",
    "\n",
    "# Display the number of rows and the number of columns in the data set to confirm the portrait shape\n",
    "# The first element of the output is the number of rows and the second is the number of columns \n",
    "print(df.shape)"
   ]
  },
  {
   "cell_type": "code",
   "execution_count": 149,
   "metadata": {},
   "outputs": [
    {
     "data": {
      "text/plain": [
       "Binned_CRS_DEP_TIME    0\n",
       "CARRIER                0\n",
       "DEST                   0\n",
       "ORIGIN                 0\n",
       "DAY_WEEK               0\n",
       "Flight_Status          0\n",
       "dtype: int64"
      ]
     },
     "execution_count": 149,
     "metadata": {},
     "output_type": "execute_result"
    }
   ],
   "source": [
    "cvar_list = [ 'CARRIER', 'DEST', 'ORIGIN', 'Flight_Status','Binned_CRS_DEP_TIME','DAY_WEEK']\n",
    "\n",
    "\n",
    "rvar_list =['Weather']\n",
    "df_sample1 = df.drop(columns=rvar_list)\n",
    "\n",
    "df_sample1.isnull().sum()"
   ]
  },
  {
   "cell_type": "code",
   "execution_count": 150,
   "metadata": {},
   "outputs": [
    {
     "name": "stdout",
     "output_type": "stream",
     "text": [
      "      Binned_CRS_DEP_TIME_1  Binned_CRS_DEP_TIME_2  Binned_CRS_DEP_TIME_3  \\\n",
      "0                         0                      0                      0   \n",
      "1                         0                      0                      1   \n",
      "2                         0                      0                      0   \n",
      "3                         0                      0                      0   \n",
      "4                         0                      0                      0   \n",
      "...                     ...                    ...                    ...   \n",
      "1314                      1                      0                      0   \n",
      "1315                      0                      0                      0   \n",
      "1316                      0                      0                      0   \n",
      "1317                      0                      0                      0   \n",
      "1318                      0                      0                      0   \n",
      "\n",
      "      Binned_CRS_DEP_TIME_4  Binned_CRS_DEP_TIME_5  Binned_CRS_DEP_TIME_6  \\\n",
      "0                         0                      1                      0   \n",
      "1                         0                      0                      0   \n",
      "2                         0                      0                      0   \n",
      "3                         1                      0                      0   \n",
      "4                         0                      1                      0   \n",
      "...                     ...                    ...                    ...   \n",
      "1314                      0                      0                      0   \n",
      "1315                      0                      0                      1   \n",
      "1316                      0                      0                      1   \n",
      "1317                      1                      0                      0   \n",
      "1318                      0                      0                      1   \n",
      "\n",
      "      Binned_CRS_DEP_TIME_7  Binned_CRS_DEP_TIME_8  CARRIER_CO  CARRIER_DH  \\\n",
      "0                         0                      0           0           1   \n",
      "1                         0                      0           0           1   \n",
      "2                         0                      1           0           1   \n",
      "3                         0                      0           0           1   \n",
      "4                         0                      0           0           1   \n",
      "...                     ...                    ...         ...         ...   \n",
      "1314                      0                      0           0           0   \n",
      "1315                      0                      0           0           0   \n",
      "1316                      0                      0           0           0   \n",
      "1317                      0                      0           0           0   \n",
      "1318                      0                      0           0           0   \n",
      "\n",
      "      ...  ORIGIN_IAD  DAY_WEEK_1  DAY_WEEK_2  DAY_WEEK_3  DAY_WEEK_4  \\\n",
      "0     ...           1           0           0           0           0   \n",
      "1     ...           1           0           0           0           0   \n",
      "2     ...           1           0           0           0           0   \n",
      "3     ...           1           0           0           0           0   \n",
      "4     ...           1           0           0           0           0   \n",
      "...   ...         ...         ...         ...         ...         ...   \n",
      "1314  ...           0           0           0           0           0   \n",
      "1315  ...           1           0           0           0           0   \n",
      "1316  ...           0           0           0           0           0   \n",
      "1317  ...           0           0           0           0           0   \n",
      "1318  ...           0           0           0           0           0   \n",
      "\n",
      "      DAY_WEEK_5  DAY_WEEK_6  DAY_WEEK_7  Flight_Status_Delayed  \\\n",
      "0              1           0           0                      1   \n",
      "1              1           0           0                      1   \n",
      "2              1           0           0                      1   \n",
      "3              1           0           0                      1   \n",
      "4              1           0           0                      1   \n",
      "...          ...         ...         ...                    ...   \n",
      "1314           0           1           0                      0   \n",
      "1315           0           1           0                      0   \n",
      "1316           0           1           0                      0   \n",
      "1317           0           1           0                      0   \n",
      "1318           0           1           0                      0   \n",
      "\n",
      "      Flight_Status_On-time  \n",
      "0                         0  \n",
      "1                         0  \n",
      "2                         0  \n",
      "3                         0  \n",
      "4                         0  \n",
      "...                     ...  \n",
      "1314                      1  \n",
      "1315                      1  \n",
      "1316                      1  \n",
      "1317                      1  \n",
      "1318                      1  \n",
      "\n",
      "[1319 rows x 31 columns]\n"
     ]
    }
   ],
   "source": [
    "df_sample2 = df_sample1.copy()\n",
    "\n",
    "\n",
    "df_sample3 = df_sample2.copy()\n",
    "df_sample3[cvar_list] = df_sample2[cvar_list].astype('category')\n",
    "\n",
    "\n",
    "df_sample4 = df_sample3.copy()\n",
    "df_sample4 = pd.get_dummies(df_sample3, prefix_sep='_')\n",
    "print(df_sample4)"
   ]
  },
  {
   "cell_type": "code",
   "execution_count": 151,
   "metadata": {},
   "outputs": [
    {
     "name": "stdout",
     "output_type": "stream",
     "text": [
      "['Binned_CRS_DEP_TIME_1' 'Binned_CRS_DEP_TIME_2' 'Binned_CRS_DEP_TIME_3'\n",
      " 'Binned_CRS_DEP_TIME_4' 'Binned_CRS_DEP_TIME_5' 'Binned_CRS_DEP_TIME_7'\n",
      " 'Binned_CRS_DEP_TIME_8' 'CARRIER_CO' 'CARRIER_DL' 'CARRIER_MQ'\n",
      " 'CARRIER_OH' 'CARRIER_RU' 'CARRIER_UA' 'CARRIER_US' 'DEST_EWR' 'DEST_JFK'\n",
      " 'ORIGIN_BWI' 'ORIGIN_IAD' 'DAY_WEEK_1' 'DAY_WEEK_2' 'DAY_WEEK_3'\n",
      " 'DAY_WEEK_4' 'DAY_WEEK_6' 'DAY_WEEK_7' 'Flight_Status_Delayed']\n",
      "      Binned_CRS_DEP_TIME_1  Binned_CRS_DEP_TIME_2  Binned_CRS_DEP_TIME_3  \\\n",
      "0                         0                      0                      0   \n",
      "1                         0                      0                      1   \n",
      "2                         0                      0                      0   \n",
      "3                         0                      0                      0   \n",
      "4                         0                      0                      0   \n",
      "...                     ...                    ...                    ...   \n",
      "1314                      1                      0                      0   \n",
      "1315                      0                      0                      0   \n",
      "1316                      0                      0                      0   \n",
      "1317                      0                      0                      0   \n",
      "1318                      0                      0                      0   \n",
      "\n",
      "      Binned_CRS_DEP_TIME_4  Binned_CRS_DEP_TIME_5  Binned_CRS_DEP_TIME_7  \\\n",
      "0                         0                      1                      0   \n",
      "1                         0                      0                      0   \n",
      "2                         0                      0                      0   \n",
      "3                         1                      0                      0   \n",
      "4                         0                      1                      0   \n",
      "...                     ...                    ...                    ...   \n",
      "1314                      0                      0                      0   \n",
      "1315                      0                      0                      0   \n",
      "1316                      0                      0                      0   \n",
      "1317                      1                      0                      0   \n",
      "1318                      0                      0                      0   \n",
      "\n",
      "      Binned_CRS_DEP_TIME_8  CARRIER_CO  CARRIER_DL  CARRIER_MQ  ...  \\\n",
      "0                         0           0           0           0  ...   \n",
      "1                         0           0           0           0  ...   \n",
      "2                         1           0           0           0  ...   \n",
      "3                         0           0           0           0  ...   \n",
      "4                         0           0           0           0  ...   \n",
      "...                     ...         ...         ...         ...  ...   \n",
      "1314                      0           0           0           0  ...   \n",
      "1315                      0           0           0           0  ...   \n",
      "1316                      0           0           0           0  ...   \n",
      "1317                      0           0           0           0  ...   \n",
      "1318                      0           0           0           0  ...   \n",
      "\n",
      "      DEST_JFK  ORIGIN_BWI  ORIGIN_IAD  DAY_WEEK_1  DAY_WEEK_2  DAY_WEEK_3  \\\n",
      "0            0           0           1           0           0           0   \n",
      "1            0           0           1           0           0           0   \n",
      "2            1           0           1           0           0           0   \n",
      "3            0           0           1           0           0           0   \n",
      "4            0           0           1           0           0           0   \n",
      "...        ...         ...         ...         ...         ...         ...   \n",
      "1314         0           0           0           0           0           0   \n",
      "1315         0           0           1           0           0           0   \n",
      "1316         0           0           0           0           0           0   \n",
      "1317         0           0           0           0           0           0   \n",
      "1318         0           0           0           0           0           0   \n",
      "\n",
      "      DAY_WEEK_4  DAY_WEEK_6  DAY_WEEK_7  Flight_Status_Delayed  \n",
      "0              0           0           0                      1  \n",
      "1              0           0           0                      1  \n",
      "2              0           0           0                      1  \n",
      "3              0           0           0                      1  \n",
      "4              0           0           0                      1  \n",
      "...          ...         ...         ...                    ...  \n",
      "1314           0           1           0                      0  \n",
      "1315           0           1           0                      0  \n",
      "1316           0           1           0                      0  \n",
      "1317           0           1           0                      0  \n",
      "1318           0           1           0                      0  \n",
      "\n",
      "[1319 rows x 25 columns]\n",
      "      Binned_CRS_DEP_TIME CARRIER DEST ORIGIN  Weather  DAY_WEEK Flight_Status\n",
      "0                       5      DH  LGA    IAD        0         5       Delayed\n",
      "1                       3      DH  LGA    IAD        0         5       Delayed\n",
      "2                       8      DH  JFK    IAD        0         5       Delayed\n",
      "3                       4      DH  EWR    IAD        0         5       Delayed\n",
      "4                       5      DH  EWR    IAD        0         5       Delayed\n",
      "...                   ...     ...  ...    ...      ...       ...           ...\n",
      "1314                    1      RU  EWR    DCA        0         6       On-time\n",
      "1315                    6      RU  EWR    IAD        0         6       On-time\n",
      "1316                    6      RU  EWR    DCA        0         6       On-time\n",
      "1317                    4      RU  EWR    DCA        0         6       On-time\n",
      "1318                    6      RU  EWR    DCA        0         6       On-time\n",
      "\n",
      "[1319 rows x 7 columns]\n"
     ]
    }
   ],
   "source": [
    "rdummies = ['Binned_CRS_DEP_TIME_6','DAY_WEEK_5','CARRIER_DH', 'DEST_LGA', 'ORIGIN_DCA', 'Flight_Status_On-time']\n",
    "df_sample5 = df_sample4.copy()\n",
    "df_sample5 = df_sample4.drop(columns=rdummies)\n",
    "\n",
    "print(df_sample5.columns.values)\n",
    "\n",
    "print(df_sample5)\n",
    "print(df)"
   ]
  },
  {
   "cell_type": "code",
   "execution_count": 152,
   "metadata": {},
   "outputs": [
    {
     "name": "stdout",
     "output_type": "stream",
     "text": [
      "      Binned_CRS_DEP_TIME_1  Binned_CRS_DEP_TIME_2  Binned_CRS_DEP_TIME_3  \\\n",
      "710                       0                      0                      0   \n",
      "1258                      0                      0                      0   \n",
      "435                       0                      0                      0   \n",
      "987                       0                      0                      0   \n",
      "1286                      0                      0                      0   \n",
      "...                     ...                    ...                    ...   \n",
      "715                       0                      0                      0   \n",
      "905                       0                      1                      0   \n",
      "1096                      0                      0                      0   \n",
      "235                       0                      0                      0   \n",
      "1061                      0                      1                      0   \n",
      "\n",
      "      Binned_CRS_DEP_TIME_4  Binned_CRS_DEP_TIME_5  Binned_CRS_DEP_TIME_7  \\\n",
      "710                       0                      1                      0   \n",
      "1258                      1                      0                      0   \n",
      "435                       0                      0                      1   \n",
      "987                       0                      0                      0   \n",
      "1286                      0                      0                      0   \n",
      "...                     ...                    ...                    ...   \n",
      "715                       0                      0                      0   \n",
      "905                       0                      0                      0   \n",
      "1096                      0                      0                      0   \n",
      "235                       0                      1                      0   \n",
      "1061                      0                      0                      0   \n",
      "\n",
      "      Binned_CRS_DEP_TIME_8  CARRIER_CO  CARRIER_DL  CARRIER_MQ  ...  \\\n",
      "710                       0           0           0           0  ...   \n",
      "1258                      0           0           0           0  ...   \n",
      "435                       0           0           0           0  ...   \n",
      "987                       0           0           0           0  ...   \n",
      "1286                      0           0           1           0  ...   \n",
      "...                     ...         ...         ...         ...  ...   \n",
      "715                       0           0           0           0  ...   \n",
      "905                       0           0           0           0  ...   \n",
      "1096                      1           0           0           0  ...   \n",
      "235                       0           0           0           1  ...   \n",
      "1061                      0           0           0           1  ...   \n",
      "\n",
      "      DEST_JFK  ORIGIN_BWI  ORIGIN_IAD  DAY_WEEK_1  DAY_WEEK_2  DAY_WEEK_3  \\\n",
      "710          0           0           0           0           0           0   \n",
      "1258         0           0           1           0           0           0   \n",
      "435          0           0           0           1           0           0   \n",
      "987          0           0           1           0           1           0   \n",
      "1286         0           0           0           0           0           0   \n",
      "...        ...         ...         ...         ...         ...         ...   \n",
      "715          0           0           1           0           0           0   \n",
      "905          0           0           1           0           0           0   \n",
      "1096         0           0           0           0           0           1   \n",
      "235          0           0           0           0           0           0   \n",
      "1061         0           0           0           0           0           1   \n",
      "\n",
      "      DAY_WEEK_4  DAY_WEEK_6  DAY_WEEK_7  Flight_Status_Delayed  \n",
      "710            1           0           0                      0  \n",
      "1258           0           0           0                      0  \n",
      "435            0           0           0                      0  \n",
      "987            0           0           0                      1  \n",
      "1286           0           1           0                      0  \n",
      "...          ...         ...         ...                    ...  \n",
      "715            1           0           0                      0  \n",
      "905            0           0           1                      0  \n",
      "1096           0           0           0                      1  \n",
      "235            0           0           0                      1  \n",
      "1061           0           0           0                      1  \n",
      "\n",
      "[1055 rows x 25 columns]\n"
     ]
    }
   ],
   "source": [
    "#Data Partiton\n",
    "\n",
    "from sklearn.model_selection import train_test_split\n",
    "\n",
    "df4partition = df_sample5\n",
    "testpart_size = 0.2\n",
    "\n",
    "df_nontestData, df_testData = train_test_split(df4partition, test_size=testpart_size, random_state=1)\n",
    "\n",
    "print(df_nontestData)"
   ]
  },
  {
   "cell_type": "code",
   "execution_count": 153,
   "metadata": {},
   "outputs": [
    {
     "name": "stdout",
     "output_type": "stream",
     "text": [
      "                              0\n",
      "Binned_CRS_DEP_TIME_1  0.000000\n",
      "Binned_CRS_DEP_TIME_2  0.000000\n",
      "Binned_CRS_DEP_TIME_3  0.000000\n",
      "Binned_CRS_DEP_TIME_4  0.000000\n",
      "Binned_CRS_DEP_TIME_5  0.145576\n",
      "Binned_CRS_DEP_TIME_7  0.000000\n",
      "Binned_CRS_DEP_TIME_8  0.000000\n",
      "CARRIER_CO             0.000000\n",
      "CARRIER_DL            -0.293388\n",
      "CARRIER_MQ             0.077791\n",
      "CARRIER_OH             0.000000\n",
      "CARRIER_RU             0.000000\n",
      "CARRIER_UA             0.000000\n",
      "CARRIER_US            -0.796907\n",
      "DEST_EWR               0.000000\n",
      "DEST_JFK               0.000000\n",
      "ORIGIN_BWI             0.000000\n",
      "ORIGIN_IAD             0.000000\n",
      "DAY_WEEK_1             0.265289\n",
      "DAY_WEEK_2             0.000000\n",
      "DAY_WEEK_3             0.000000\n",
      "DAY_WEEK_4            -0.035509\n",
      "DAY_WEEK_6            -0.474306\n",
      "DAY_WEEK_7             0.125446\n",
      "Intercept             -0.628720\n"
     ]
    }
   ],
   "source": [
    "#Logistic Regression with Penalty \n",
    "\n",
    "from sklearn.linear_model import LogisticRegression, LogisticRegressionCV\n",
    "\n",
    "DV = 'Flight_Status_Delayed'\n",
    "y = df_nontestData[DV]\n",
    "X = df_nontestData.drop(columns=[DV])\n",
    "\n",
    "alpha = 11\n",
    "#2\n",
    "#1\n",
    "#0.01\n",
    "#10\n",
    "\n",
    "clf = LogisticRegression(C=1/alpha, penalty='l1', solver='saga', max_iter=200, random_state=1).fit(X,y)\n",
    "\n",
    "# A user-defined function summary_coef\n",
    "# to display the estimated coefficients of a model candidate obtained by the Logistic Regression analysis\n",
    "def summary_coef(model_object):\n",
    "  n_predictors = X.shape[1]\n",
    "  model_coef = pd.DataFrame(model_object.coef_.reshape(1, n_predictors), columns=X.columns.values)\n",
    "  model_coef['Intercept'] = model_object.intercept_\n",
    "  return model_coef.transpose()\n",
    "\n",
    "print(summary_coef(clf))"
   ]
  },
  {
   "cell_type": "code",
   "execution_count": 154,
   "metadata": {},
   "outputs": [
    {
     "name": "stderr",
     "output_type": "stream",
     "text": [
      "/Users/elaina/opt/anaconda3/lib/python3.8/site-packages/sklearn/linear_model/_sag.py:329: ConvergenceWarning: The max_iter was reached which means the coef_ did not converge\n",
      "  warnings.warn(\"The max_iter was reached which means \"\n"
     ]
    },
    {
     "name": "stdout",
     "output_type": "stream",
     "text": [
      "                              0\n",
      "Binned_CRS_DEP_TIME_1 -0.450259\n",
      "Binned_CRS_DEP_TIME_2 -0.540088\n",
      "Binned_CRS_DEP_TIME_3 -0.660682\n",
      "Binned_CRS_DEP_TIME_4 -0.533879\n",
      "Binned_CRS_DEP_TIME_5  0.322535\n",
      "Binned_CRS_DEP_TIME_7  0.124208\n",
      "Binned_CRS_DEP_TIME_8  0.288676\n",
      "CARRIER_CO             0.473356\n",
      "CARRIER_DL            -0.481035\n",
      "CARRIER_MQ             0.602919\n",
      "CARRIER_OH            -1.099688\n",
      "CARRIER_RU             0.000000\n",
      "CARRIER_UA            -0.054363\n",
      "CARRIER_US            -1.086747\n",
      "DEST_EWR               0.025905\n",
      "DEST_JFK              -0.185100\n",
      "ORIGIN_BWI             0.439147\n",
      "ORIGIN_IAD             0.293619\n",
      "DAY_WEEK_1             0.852705\n",
      "DAY_WEEK_2             0.531485\n",
      "DAY_WEEK_3             0.177251\n",
      "DAY_WEEK_4            -0.160297\n",
      "DAY_WEEK_6            -0.800274\n",
      "DAY_WEEK_7             0.662175\n",
      "Intercept             -0.834278\n",
      "[0.3012973]\n",
      "[[154  16]\n",
      " [ 69  25]] this is confusion matrix\n",
      "0.678030303030303\n"
     ]
    }
   ],
   "source": [
    "# Run Logistic regression with k-fold cross validation with k=5\n",
    "\n",
    "kfolds = 5\n",
    "\n",
    "min_alpha = 0.001\n",
    "max_alpha = 100\n",
    "\n",
    "n_candidates = 1000\n",
    "\n",
    "import numpy as np\n",
    "\n",
    "alpha_list = list(np.linspace(min_alpha, max_alpha, num=n_candidates))\n",
    "\n",
    "# C_list is the element-wise inverse of alpha_list. It is required as one of the paramater values for LogisticRegressionCV\n",
    "C_list = list(1/np.linspace(min_alpha, max_alpha, num=n_candidates))\n",
    "\n",
    "# Set n_jobs to be -1 to run LogisticRegressionCV on all CPU cores.\n",
    "clf_optimal = LogisticRegressionCV(Cs=C_list, cv=kfolds, penalty='l1', solver='saga', max_iter=200, random_state=1, n_jobs=-1).fit(X,y)\n",
    "\n",
    "# Display the estimated coefficients of the final selected model\n",
    "print(summary_coef(clf_optimal))\n",
    "\n",
    "# Display the optimal alpha that yields the final selected model (the best model candidate)\n",
    "print(1/clf_optimal.C_)\n",
    "\n",
    "# Calcuate the error rate over the test partition based on the final selected model\n",
    "\n",
    "# y_test_actual is the actual values of the DV in the test partition\n",
    "y_test_actual = df_testData[DV]\n",
    "\n",
    "# X_test is the predictor values in the test partition\n",
    "X_test = df_testData.drop(columns=[DV])\n",
    "\n",
    "# Use predict method of the clf_optimal object to apply the model associated with clf_optimal to the test partition\n",
    "# y_test_predicted is the predicted values of the DV in the test partition \n",
    "y_test_predicted = clf_optimal.predict(X_test)\n",
    "\n",
    "# Import the metrics package\n",
    "from sklearn import metrics\n",
    "\n",
    "# Display the confusion matrix over the test partition\n",
    "print(metrics.confusion_matrix(y_test_actual, y_test_predicted), 'this is confusion matrix')\n",
    "\n",
    "# Display the accuracy over the test partition\n",
    "print(clf_optimal.score(X_test, y_test_actual))"
   ]
  },
  {
   "cell_type": "code",
   "execution_count": 155,
   "metadata": {},
   "outputs": [
    {
     "name": "stdout",
     "output_type": "stream",
     "text": [
      "Binned_CRS_DEP_TIME    0\n",
      "CARRIER                0\n",
      "DEST                   0\n",
      "ORIGIN                 0\n",
      "DAY_WEEK               0\n",
      "dtype: int64\n"
     ]
    }
   ],
   "source": [
    "# Load the data from the new data file to a Python dataframe df_newdata\n",
    "df_newdata = pd.read_csv('HW4_FlightDelays_NEWDATA.csv')\n",
    "\n",
    "# Check if there is any regular missing value in df_newdata\n",
    "print(df_newdata.isnull().sum())"
   ]
  },
  {
   "cell_type": "code",
   "execution_count": 156,
   "metadata": {},
   "outputs": [
    {
     "name": "stdout",
     "output_type": "stream",
     "text": [
      "['CARRIER', 'DEST', 'ORIGIN', 'Binned_CRS_DEP_TIME', 'DAY_WEEK']\n"
     ]
    }
   ],
   "source": [
    "# Generate the categorical predictor list\n",
    "Original_DV = 'Flight_Status'\n",
    "cpredictor_list = cvar_list.copy()\n",
    "cpredictor_list.remove(Original_DV)\n",
    "\n",
    "print(cpredictor_list)"
   ]
  },
  {
   "cell_type": "code",
   "execution_count": 157,
   "metadata": {},
   "outputs": [
    {
     "name": "stdout",
     "output_type": "stream",
     "text": [
      "['Binned_CRS_DEP_TIME_3' 'CARRIER_UA' 'DEST_EWR' 'ORIGIN_IAD' 'DAY_WEEK_1']\n"
     ]
    }
   ],
   "source": [
    "# Set the datatypes of the variables in the new data\n",
    "df_newdata_sample2 = df_newdata.copy()\n",
    "df_newdata_sample2[cpredictor_list] = df_newdata[cpredictor_list].astype('category')\n",
    "\n",
    "# Use the historical sample mean and historical sample standard deviation to standardize the new data\n",
    "df_newdata_sample3 = df_newdata_sample2.copy()\n",
    "#df_newdata_sample3[nvar_list] = (df_newdata_sample2[nvar_list] - historical_sample_mean[nvar_list])/historical_sample_std[nvar_list]\n",
    "\n",
    "# Code the categorical variables in the new data \n",
    "df_newdata_sample4 = pd.get_dummies(df_newdata_sample3, prefix_sep='_')\n",
    "\n",
    "print(df_newdata_sample4.columns.values)"
   ]
  },
  {
   "cell_type": "code",
   "execution_count": 158,
   "metadata": {},
   "outputs": [
    {
     "name": "stdout",
     "output_type": "stream",
     "text": [
      "['Binned_CRS_DEP_TIME_3' 'CARRIER_UA' 'DEST_EWR' 'ORIGIN_IAD' 'DAY_WEEK_1'\n",
      " 'Binned_CRS_DEP_TIME_2' 'Binned_CRS_DEP_TIME_1' 'Binned_CRS_DEP_TIME_4'\n",
      " 'Binned_CRS_DEP_TIME_5' 'Binned_CRS_DEP_TIME_7' 'Binned_CRS_DEP_TIME_8'\n",
      " 'DAY_WEEK_2' 'DAY_WEEK_3' 'DAY_WEEK_4' 'DAY_WEEK_6' 'DAY_WEEK_7'\n",
      " 'CARRIER_CO' 'CARRIER_DL' 'CARRIER_MQ' 'CARRIER_US' 'CARRIER_OH'\n",
      " 'CARRIER_RU' 'ORIGIN_JFK' 'ORIGIN_BWI']\n"
     ]
    }
   ],
   "source": [
    "df_newdata_sample5 = df_newdata_sample4.copy()\n",
    "df_newdata_sample5['Binned_CRS_DEP_TIME_2'] = 0\n",
    "df_newdata_sample5['Binned_CRS_DEP_TIME_1'] = 0\n",
    "df_newdata_sample5['Binned_CRS_DEP_TIME_4'] = 0\n",
    "df_newdata_sample5['Binned_CRS_DEP_TIME_5'] = 0\n",
    "df_newdata_sample5['Binned_CRS_DEP_TIME_7'] = 0\n",
    "df_newdata_sample5['Binned_CRS_DEP_TIME_8'] = 0\n",
    "df_newdata_sample5['DAY_WEEK_2'] = 0\n",
    "df_newdata_sample5['DAY_WEEK_3'] = 0\n",
    "df_newdata_sample5['DAY_WEEK_4'] = 0\n",
    "df_newdata_sample5['DAY_WEEK_6'] = 0\n",
    "df_newdata_sample5['DAY_WEEK_7'] = 0\n",
    "df_newdata_sample5['CARRIER_CO'] = 0\n",
    "df_newdata_sample5['CARRIER_DL'] = 0\n",
    "df_newdata_sample5['CARRIER_MQ'] = 0\n",
    "df_newdata_sample5['CARRIER_US'] = 0\n",
    "df_newdata_sample5['CARRIER_OH'] = 0\n",
    "df_newdata_sample5['CARRIER_RU'] = 0\n",
    "df_newdata_sample5['ORIGIN_JFK'] = 0\n",
    "df_newdata_sample5['ORIGIN_BWI'] = 0\n",
    "\n",
    "print(df_newdata_sample5.columns.values)\n",
    "#df_sample4 = pd.get_dummies(df_sample3, prefix_sep='_')\n",
    "\n",
    "#,'Binned_CRS_DEP_TIME_2','Binned_CRS_DEP_TIME_4','Binned_CRS_DEP_TIME_5','Binned_CRS_DEP_TIME_7','Binned_CRS_DEP_TIME_8',\n",
    "                 # 'DAY_WEEK_2','DAY_WEEK_3','DAY_WEEK_4','DAY_WEEK_6','DAY_WEEK_7','CARRIER_CO','CARRIER_DL','CARRIER_MQ',\n",
    "                  #'CARRIER_US','CARRIER_OH','CARRIER_RU','ORIGIN_JFK','ORIGIN_BWI'\n",
    "\n",
    "#['Binned_CRS_DEP_TIME_6', 'DAY_WEEK_5', 'CARRIER_DH', 'DEST_LGA', 'ORIGIN_DCA', 'Flight_Status_On-time']\n",
    "#['Binned_CRS_DEP_TIME_3' 'CARRIER_UA' 'DEST_EWR' 'ORIGIN_IAD' 'DAY_WEEK_1']"
   ]
  },
  {
   "cell_type": "code",
   "execution_count": 159,
   "metadata": {},
   "outputs": [
    {
     "name": "stdout",
     "output_type": "stream",
     "text": [
      "   Binned_CRS_DEP_TIME_3  CARRIER_UA  DEST_EWR  ORIGIN_IAD  DAY_WEEK_1  \\\n",
      "0                      1           1         1           1           1   \n",
      "\n",
      "   Binned_CRS_DEP_TIME_2  Binned_CRS_DEP_TIME_1  Binned_CRS_DEP_TIME_4  \\\n",
      "0                      0                      0                      0   \n",
      "\n",
      "   Binned_CRS_DEP_TIME_5  Binned_CRS_DEP_TIME_7  ...  DAY_WEEK_6  DAY_WEEK_7  \\\n",
      "0                      0                      0  ...           0           0   \n",
      "\n",
      "   CARRIER_CO  CARRIER_DL  CARRIER_MQ  CARRIER_US  CARRIER_OH  CARRIER_RU  \\\n",
      "0           0           0           0           0           0           0   \n",
      "\n",
      "   ORIGIN_JFK  ORIGIN_BWI  \n",
      "0           0           0  \n",
      "\n",
      "[1 rows x 24 columns]\n"
     ]
    }
   ],
   "source": [
    "print(df_newdata_sample5)"
   ]
  },
  {
   "cell_type": "code",
   "execution_count": 160,
   "metadata": {},
   "outputs": [
    {
     "name": "stdout",
     "output_type": "stream",
     "text": [
      "[0.06317117]\n"
     ]
    }
   ],
   "source": [
    "# Score the new data using the model carried by the model object clf_optimal \n",
    "predicted_PersonalLoan = clf_optimal.predict_proba(df_newdata_sample5)[:,1]\n",
    "#X = dataset.iloc[:, :2].values\n",
    "# Print the predicted probablity for the new data observations\n",
    "print(predicted_PersonalLoan)"
   ]
  }
 ],
 "metadata": {
  "kernelspec": {
   "display_name": "Python 3",
   "language": "python",
   "name": "python3"
  },
  "language_info": {
   "codemirror_mode": {
    "name": "ipython",
    "version": 3
   },
   "file_extension": ".py",
   "mimetype": "text/x-python",
   "name": "python",
   "nbconvert_exporter": "python",
   "pygments_lexer": "ipython3",
   "version": "3.8.3"
  }
 },
 "nbformat": 4,
 "nbformat_minor": 4
}
