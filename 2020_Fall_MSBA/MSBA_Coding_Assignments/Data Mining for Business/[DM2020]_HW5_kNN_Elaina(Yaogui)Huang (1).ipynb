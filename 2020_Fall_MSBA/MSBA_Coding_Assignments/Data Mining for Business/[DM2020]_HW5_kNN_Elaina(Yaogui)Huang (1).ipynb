{
  "nbformat": 4,
  "nbformat_minor": 0,
  "metadata": {
    "colab": {
      "name": "[DM2020]_HW5_kNN_Elaina(Yaogui)Huang.ipynb",
      "provenance": [],
      "collapsed_sections": []
    },
    "kernelspec": {
      "name": "python3",
      "display_name": "Python 3"
    }
  },
  "cells": [
    {
      "cell_type": "code",
      "metadata": {
        "colab": {
          "resources": {
            "http://localhost:8080/nbextensions/google.colab/files.js": {
              "data": "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",
              "ok": true,
              "headers": [
                [
                  "content-type",
                  "application/javascript"
                ]
              ],
              "status": 200,
              "status_text": ""
            }
          },
          "base_uri": "https://localhost:8080/",
          "height": 72
        },
        "id": "203k4a_mhoEP",
        "outputId": "e94cf8cc-1441-44ee-c858-ed748fed71e2"
      },
      "source": [
        "# Load the data from the Apporto machine to the Colab environment\n",
        "\n",
        "from google.colab import files\n",
        "uploaded = files.upload()"
      ],
      "execution_count": 1,
      "outputs": [
        {
          "output_type": "display_data",
          "data": {
            "text/html": [
              "\n",
              "     <input type=\"file\" id=\"files-37c5d719-955f-4d01-a645-65ceeab65d21\" name=\"files[]\" multiple disabled\n",
              "        style=\"border:none\" />\n",
              "     <output id=\"result-37c5d719-955f-4d01-a645-65ceeab65d21\">\n",
              "      Upload widget is only available when the cell has been executed in the\n",
              "      current browser session. Please rerun this cell to enable.\n",
              "      </output>\n",
              "      <script src=\"/nbextensions/google.colab/files.js\"></script> "
            ],
            "text/plain": [
              "<IPython.core.display.HTML object>"
            ]
          },
          "metadata": {
            "tags": []
          }
        },
        {
          "output_type": "stream",
          "text": [
            "Saving HW4_FlightDelays.csv to HW4_FlightDelays.csv\n"
          ],
          "name": "stdout"
        }
      ]
    },
    {
      "cell_type": "code",
      "metadata": {
        "id": "y8IHyXJ2iPhv"
      },
      "source": [
        "import pandas as pd\n",
        "import statistics"
      ],
      "execution_count": 2,
      "outputs": []
    },
    {
      "cell_type": "code",
      "metadata": {
        "colab": {
          "base_uri": "https://localhost:8080/"
        },
        "id": "Gbh96CG5iYMt",
        "outputId": "d710e080-c2ce-4716-e031-df1aa83f30d6"
      },
      "source": [
        "df = pd.read_csv('HW4_FlightDelays.csv')\n",
        "print(df.head(10))\n",
        "\n",
        "# Display the variable list\n",
        "print(df.columns.values)\n",
        "\n",
        "# Display the number of rows and the number of columns in the data set to confirm the portrait shape\n",
        "# The first element of the output is the number of rows and the second is the number of columns \n",
        "print(df.shape)"
      ],
      "execution_count": 3,
      "outputs": [
        {
          "output_type": "stream",
          "text": [
            "   Binned_CRS_DEP_TIME CARRIER DEST ORIGIN  Weather  DAY_WEEK Flight_Status\n",
            "0                    5      DH  LGA    IAD        0         5       Delayed\n",
            "1                    3      DH  LGA    IAD        0         5       Delayed\n",
            "2                    8      DH  JFK    IAD        0         5       Delayed\n",
            "3                    4      DH  EWR    IAD        0         5       Delayed\n",
            "4                    5      DH  EWR    IAD        0         5       Delayed\n",
            "5                    5      RU  EWR    IAD        0         5       Delayed\n",
            "6                    8      DH  JFK    IAD        0         6       Delayed\n",
            "7                    5      DL  JFK    DCA        0         6       Delayed\n",
            "8                    5      MQ  JFK    DCA        0         6       Delayed\n",
            "9                    2      DH  EWR    IAD        0         6       Delayed\n",
            "['Binned_CRS_DEP_TIME' 'CARRIER' 'DEST' 'ORIGIN' 'Weather' 'DAY_WEEK'\n",
            " 'Flight_Status']\n",
            "(1319, 7)\n"
          ],
          "name": "stdout"
        }
      ]
    },
    {
      "cell_type": "code",
      "metadata": {
        "colab": {
          "base_uri": "https://localhost:8080/"
        },
        "id": "xpiZra1JigDQ",
        "outputId": "7fa776c8-0470-4389-8f7d-af248d3645f1"
      },
      "source": [
        "cvar_list = [ 'CARRIER', 'DEST', 'ORIGIN', 'Flight_Status','Binned_CRS_DEP_TIME','DAY_WEEK']\n",
        "\n",
        "\n",
        "rvar_list =['Weather']\n",
        "df_sample1 = df.drop(columns=rvar_list)\n",
        "\n",
        "df_sample1.isnull().sum()"
      ],
      "execution_count": 4,
      "outputs": [
        {
          "output_type": "execute_result",
          "data": {
            "text/plain": [
              "Binned_CRS_DEP_TIME    0\n",
              "CARRIER                0\n",
              "DEST                   0\n",
              "ORIGIN                 0\n",
              "DAY_WEEK               0\n",
              "Flight_Status          0\n",
              "dtype: int64"
            ]
          },
          "metadata": {
            "tags": []
          },
          "execution_count": 4
        }
      ]
    },
    {
      "cell_type": "code",
      "metadata": {
        "colab": {
          "base_uri": "https://localhost:8080/"
        },
        "id": "dyXCHD2zihCv",
        "outputId": "2dfac656-dd91-48d1-c656-3e125d949cae"
      },
      "source": [
        "df_sample2 = df_sample1.copy()\n",
        "\n",
        "\n",
        "df_sample3 = df_sample2.copy()\n",
        "df_sample3[cvar_list] = df_sample2[cvar_list].astype('category')\n",
        "\n",
        "\n",
        "df_sample4 = df_sample3.copy()\n",
        "df_sample4 = pd.get_dummies(df_sample3, prefix_sep='_')\n",
        "print(df_sample4)"
      ],
      "execution_count": 5,
      "outputs": [
        {
          "output_type": "stream",
          "text": [
            "      Binned_CRS_DEP_TIME_1  ...  Flight_Status_On-time\n",
            "0                         0  ...                      0\n",
            "1                         0  ...                      0\n",
            "2                         0  ...                      0\n",
            "3                         0  ...                      0\n",
            "4                         0  ...                      0\n",
            "...                     ...  ...                    ...\n",
            "1314                      1  ...                      1\n",
            "1315                      0  ...                      1\n",
            "1316                      0  ...                      1\n",
            "1317                      0  ...                      1\n",
            "1318                      0  ...                      1\n",
            "\n",
            "[1319 rows x 31 columns]\n"
          ],
          "name": "stdout"
        }
      ]
    },
    {
      "cell_type": "code",
      "metadata": {
        "colab": {
          "base_uri": "https://localhost:8080/"
        },
        "id": "YclWh8sqikxF",
        "outputId": "d53d8a2b-b705-4b7e-a066-c6501d9cf2a7"
      },
      "source": [
        "rdummies = ['Flight_Status_On-time']\n",
        "df_sample5 = df_sample4.copy()\n",
        "df_sample5 = df_sample4.drop(columns=rdummies)\n",
        "\n",
        "print(df_sample5.columns.values)\n",
        "\n",
        "print(df_sample5)\n",
        "print(df)"
      ],
      "execution_count": 13,
      "outputs": [
        {
          "output_type": "stream",
          "text": [
            "['Binned_CRS_DEP_TIME_1' 'Binned_CRS_DEP_TIME_2' 'Binned_CRS_DEP_TIME_3'\n",
            " 'Binned_CRS_DEP_TIME_4' 'Binned_CRS_DEP_TIME_5' 'Binned_CRS_DEP_TIME_6'\n",
            " 'Binned_CRS_DEP_TIME_7' 'Binned_CRS_DEP_TIME_8' 'CARRIER_CO' 'CARRIER_DH'\n",
            " 'CARRIER_DL' 'CARRIER_MQ' 'CARRIER_OH' 'CARRIER_RU' 'CARRIER_UA'\n",
            " 'CARRIER_US' 'DEST_EWR' 'DEST_JFK' 'DEST_LGA' 'ORIGIN_BWI' 'ORIGIN_DCA'\n",
            " 'ORIGIN_IAD' 'DAY_WEEK_1' 'DAY_WEEK_2' 'DAY_WEEK_3' 'DAY_WEEK_4'\n",
            " 'DAY_WEEK_5' 'DAY_WEEK_6' 'DAY_WEEK_7' 'Flight_Status_Delayed']\n",
            "      Binned_CRS_DEP_TIME_1  ...  Flight_Status_Delayed\n",
            "0                         0  ...                      1\n",
            "1                         0  ...                      1\n",
            "2                         0  ...                      1\n",
            "3                         0  ...                      1\n",
            "4                         0  ...                      1\n",
            "...                     ...  ...                    ...\n",
            "1314                      1  ...                      0\n",
            "1315                      0  ...                      0\n",
            "1316                      0  ...                      0\n",
            "1317                      0  ...                      0\n",
            "1318                      0  ...                      0\n",
            "\n",
            "[1319 rows x 30 columns]\n",
            "      Binned_CRS_DEP_TIME CARRIER DEST ORIGIN  Weather  DAY_WEEK Flight_Status\n",
            "0                       5      DH  LGA    IAD        0         5       Delayed\n",
            "1                       3      DH  LGA    IAD        0         5       Delayed\n",
            "2                       8      DH  JFK    IAD        0         5       Delayed\n",
            "3                       4      DH  EWR    IAD        0         5       Delayed\n",
            "4                       5      DH  EWR    IAD        0         5       Delayed\n",
            "...                   ...     ...  ...    ...      ...       ...           ...\n",
            "1314                    1      RU  EWR    DCA        0         6       On-time\n",
            "1315                    6      RU  EWR    IAD        0         6       On-time\n",
            "1316                    6      RU  EWR    DCA        0         6       On-time\n",
            "1317                    4      RU  EWR    DCA        0         6       On-time\n",
            "1318                    6      RU  EWR    DCA        0         6       On-time\n",
            "\n",
            "[1319 rows x 7 columns]\n"
          ],
          "name": "stdout"
        }
      ]
    },
    {
      "cell_type": "code",
      "metadata": {
        "id": "rCOHqUSGhq8v",
        "colab": {
          "base_uri": "https://localhost:8080/"
        },
        "outputId": "5fa3e86d-690d-415f-84a4-4f76caecac0b"
      },
      "source": [
        "# Part 5 Data Partiton\n",
        "\n",
        "# Required package: scikit-learn. Package name in Python: sklearn\n",
        "# Required subpackage: model_selection. Required function name: train_test_split\n",
        "from sklearn.model_selection import train_test_split\n",
        "\n",
        "# Placeholder variables: df4partition, testpart_size\n",
        "# test_size specifies the percentage for the test partition\n",
        "df4partition = df_sample5\n",
        "testpart_size = 0.2\n",
        "\n",
        "# random_state specifies the seed for random number generator. \n",
        "# random_state = 1 unless otherwised noted\n",
        "df_nontestData, df_testData = train_test_split(df4partition, test_size=testpart_size, random_state=1)\n",
        "\n",
        "print(df_nontestData)"
      ],
      "execution_count": 14,
      "outputs": [
        {
          "output_type": "stream",
          "text": [
            "      Binned_CRS_DEP_TIME_1  ...  Flight_Status_Delayed\n",
            "710                       0  ...                      0\n",
            "1258                      0  ...                      0\n",
            "435                       0  ...                      0\n",
            "987                       0  ...                      1\n",
            "1286                      0  ...                      0\n",
            "...                     ...  ...                    ...\n",
            "715                       0  ...                      0\n",
            "905                       0  ...                      0\n",
            "1096                      0  ...                      1\n",
            "235                       0  ...                      1\n",
            "1061                      0  ...                      1\n",
            "\n",
            "[1055 rows x 30 columns]\n"
          ],
          "name": "stdout"
        }
      ]
    },
    {
      "cell_type": "code",
      "metadata": {
        "colab": {
          "base_uri": "https://localhost:8080/"
        },
        "id": "wXPDxzSFCq4b",
        "outputId": "0eeaa8cc-35a4-4929-acf5-28da39ad1449"
      },
      "source": [
        "#Logistic Regression with Penalty \n",
        "\n",
        "#from sklearn.linear_model import LogisticRegression, LogisticRegressionCV\n",
        "from sklearn.neighbors import KNeighborsClassifier\n",
        "\n",
        "DV = 'Flight_Status_Delayed'\n",
        "y = df_nontestData[DV]\n",
        "X = df_nontestData.drop(columns=[DV])\n",
        "\n",
        "# First we build a kNN model with pre-specified k\n",
        "k = 5\n",
        "\n",
        "clf = KNeighborsClassifier(metric='euclidean', n_neighbors=k).fit(X,y)\n",
        "\n",
        "# Report the performance over the test partition\n",
        "\n",
        "X_test = df_testData.drop(columns=DV)\n",
        "y_test = df_testData[DV]\n",
        "\n",
        "from sklearn import metrics\n",
        "\n",
        "model_object = clf\n",
        "\n",
        "# obtain the AUC of the k-NN model with k=5\n",
        "print(metrics.roc_auc_score(y_test, model_object.predict_proba(X_test)[:, 1]))"
      ],
      "execution_count": 24,
      "outputs": [
        {
          "output_type": "stream",
          "text": [
            "0.6339486858573217\n"
          ],
          "name": "stdout"
        }
      ]
    },
    {
      "cell_type": "code",
      "metadata": {
        "id": "XzD8fYxNizu_",
        "colab": {
          "base_uri": "https://localhost:8080/"
        },
        "outputId": "ff4bb15e-d6c9-4995-966e-f0a72c6c5491"
      },
      "source": [
        "#Logistic Regression with Penalty \n",
        "\n",
        "#from sklearn.linear_model import LogisticRegression, LogisticRegressionCV\n",
        "from sklearn.neighbors import KNeighborsClassifier\n",
        "\n",
        "DV = 'Flight_Status_Delayed'\n",
        "y = df_nontestData[DV]\n",
        "X = df_nontestData.drop(columns=[DV])\n",
        "\n",
        "# First we build a kNN model with pre-specified k\n",
        "k = 1\n",
        "\n",
        "clf = KNeighborsClassifier(metric='euclidean', n_neighbors=k).fit(X,y)\n",
        "\n",
        "# Report the performance over the test partition\n",
        "\n",
        "X_test = df_testData.drop(columns=DV)\n",
        "y_test = df_testData[DV]\n",
        "\n",
        "from sklearn import metrics\n",
        "\n",
        "model_object = clf\n",
        "\n",
        "# obtain the AUC of the k-NN model with k=5\n",
        "print(metrics.roc_auc_score(y_test, model_object.predict_proba(X_test)[:, 1]))"
      ],
      "execution_count": 18,
      "outputs": [
        {
          "output_type": "stream",
          "text": [
            "0.5645807259073842\n"
          ],
          "name": "stdout"
        }
      ]
    },
    {
      "cell_type": "code",
      "metadata": {
        "id": "zOuolTzz81P2"
      },
      "source": [
        "# Run Nearest neighbor with k-fold cross validation\n",
        "# Placeholder variable: kfolds\n",
        "kfolds = 5\n",
        "\n",
        "# We first define the search scope. k (k-th nearest neighbor) will be increased from 1 to max_k\n",
        "max_k = 200\n",
        "\n",
        "param_grid = {'n_neighbors': list(range(1, max_k+1))}\n",
        "\n",
        "# Create a user-defined function, profit_calcuation, that calcuates the profit over a dataset \n",
        "# for which we know the actual class (e.g., acceptance/rejection upon receiving a offer) from y_value\n",
        "# and the predictors values (e.g., consumers age, experience, income) from x_value\n",
        "# using the probability prediction model carried by the model object model.\n",
        "\n",
        "def profit_calculation(model, x_value, y_value):\n",
        "  \n",
        "  # Specify the decision cut-off used in the decision rule\n",
        "  d_cutoff = 1/11\n",
        "\n",
        "  # Get the decisions made by the decision rule for each observation in the dataset\n",
        "  # The method predict_proba is to get the predicted probability\n",
        "  # Then we compare the predicted probabilities with the decision cut-off d_cutoff\n",
        "  # True means SEND, False means NOT SEND\n",
        "  # list() is to convert the results into a Python list\n",
        "  decision = list(model.predict_proba(x_value)[:,1] > d_cutoff)\n",
        "  \n",
        "  # We put the actual class into a Python list called y\n",
        "  y = list(y_value)\n",
        "  \n",
        "  # Get the number of observations of the dataset and put it into n_obs\n",
        "  n_obs = len(y)\n",
        "\n",
        "  # cum_profit is for cumulating the profit during the for-loop\n",
        "  cum_profit = 0\n",
        "\n",
        "  for i in range(n_obs): # i will go from 0 to (n_obs-1)\n",
        "    if decision[i] == True and y[i] == 1: # if the decision is SEND and the actual class is 1 (Accept) for the i-th observation\n",
        "      profit = 10 # the net profit is 10\n",
        "    elif decision[i] == True and y[i] == 0: # if the decision is SEND and the actual class is 0 (Reject) for the i-th observation\n",
        "      profit = -1 # the net profit is -1\n",
        "    else:\n",
        "      profit = 0 # For any other situation, the net profit is zero\n",
        "    cum_profit = cum_profit + profit # cumulating the profit\n",
        "  \n",
        "  average_net_profit = cum_profit / n_obs # Derive the average net profit\n",
        "  return average_net_profit # return the average net profit\n",
        "\n",
        "# Set n_jobs to be -1 to run  on all CPU cores.\n",
        "# The search criterion is to find the model that maximizes \n",
        "# whatever the scoring function - for this case roc_auc - returns.\n",
        "\n",
        "from sklearn.model_selection import GridSearchCV\n",
        "\n",
        "gridsearch = GridSearchCV(KNeighborsClassifier(metric='euclidean'), param_grid, scoring='roc_auc', cv=kfolds, n_jobs=-1)\n",
        "gridsearch.fit(X,y)\n",
        "clf_bestkNN = gridsearch.best_estimator_\n"
      ],
      "execution_count": 19,
      "outputs": []
    },
    {
      "cell_type": "code",
      "metadata": {
        "colab": {
          "base_uri": "https://localhost:8080/"
        },
        "id": "Zy22wtY0-iTw",
        "outputId": "2dc8aa6b-3313-48fd-84e4-1755836d01ec"
      },
      "source": [
        "# Display the optimal k (k-th nearest neighbor)\n",
        "print(clf_bestkNN.n_neighbors)\n",
        "\n",
        "# y_test_actual is the actual values of the DV in the test partition\n",
        "y_test_actual = df_testData[DV]\n",
        "\n",
        "# X_test is the predictor values in the test partition\n",
        "X_test = df_testData.drop(columns=[DV])\n",
        "\n",
        "\n",
        "# Get the AUC of the final selected k-NN model\n",
        "from sklearn.metrics import roc_auc_score\n",
        "print(roc_auc_score(y_test_actual, clf_bestkNN.predict_proba(X_test)[:,1]))"
      ],
      "execution_count": 23,
      "outputs": [
        {
          "output_type": "stream",
          "text": [
            "28\n",
            "0.7439299123904881\n"
          ],
          "name": "stdout"
        }
      ]
    }
  ]
}